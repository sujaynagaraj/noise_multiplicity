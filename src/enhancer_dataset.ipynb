{
 "cells": [
  {
   "cell_type": "code",
   "execution_count": 1,
   "id": "instant-strengthening",
   "metadata": {},
   "outputs": [],
   "source": [
    "import sys\n",
    "sys.path.insert(0,'..')\n",
    "\n",
    "from src.models import *\n",
    "from src.loss_functions import *\n",
    "from src.noise import *\n",
    "from src.metrics import *\n",
    "from src.plotting import *\n",
    "from src.generate_data import *\n",
    "from src.real_data import *\n",
    "from src.enhancer import *\n",
    "\n",
    "import sklearn\n",
    "import pandas as pd\n",
    "\n",
    "from scipy.stats import bernoulli\n",
    "\n",
    "from operator import xor\n",
    "\n",
    "import os\n"
   ]
  },
  {
   "cell_type": "code",
   "execution_count": 2,
   "id": "optical-nowhere",
   "metadata": {},
   "outputs": [],
   "source": [
    "dataset = \"enhancer_imbalanced\"\n",
    "noise_type = \"group\"\n",
    "\n",
    "batch_size = 512\n"
   ]
  },
  {
   "cell_type": "code",
   "execution_count": 3,
   "id": "effective-marks",
   "metadata": {
    "scrolled": true
   },
   "outputs": [],
   "source": [
    "dataset = \"enhancer\"\n",
    "\n",
    "parent_dir = os.path.abspath(os.path.join(os.getcwd(), os.pardir))\n",
    "data_path = os.path.join(parent_dir, \"data\", dataset, dataset+\"_data.csv\")\n",
    "\n",
    "df = pd.read_csv(data_path)\n",
    "\n",
    "# mask = df[\"pValueAdjusted\"] > 0.5\n",
    "\n",
    "# #Flip the noisy labels (True ↔ False) only for those rows\n",
    "# df.loc[mask, 'Significant'] = ~df.loc[mask, 'Significant']\n",
    "\n",
    "# print(len(df))"
   ]
  },
  {
   "cell_type": "code",
   "execution_count": 4,
   "id": "domestic-vegetarian",
   "metadata": {},
   "outputs": [],
   "source": [
    "df = df[df[\"pValueAdjusted\"]<0.5]"
   ]
  },
  {
   "cell_type": "code",
   "execution_count": 5,
   "id": "abstract-magnitude",
   "metadata": {},
   "outputs": [
    {
     "data": {
      "text/plain": [
       "Regulated\n",
       "False    574\n",
       "True     418\n",
       "Name: count, dtype: int64"
      ]
     },
     "execution_count": 5,
     "metadata": {},
     "output_type": "execute_result"
    }
   ],
   "source": [
    "df[\"Regulated\"].value_counts()"
   ]
  },
  {
   "cell_type": "code",
   "execution_count": 6,
   "id": "answering-worthy",
   "metadata": {},
   "outputs": [
    {
     "data": {
      "text/plain": [
       "Significant\n",
       "False    512\n",
       "True     480\n",
       "Name: count, dtype: int64"
      ]
     },
     "execution_count": 6,
     "metadata": {},
     "output_type": "execute_result"
    }
   ],
   "source": [
    "df[\"Significant\"].value_counts()"
   ]
  },
  {
   "cell_type": "code",
   "execution_count": 7,
   "id": "opposite-guyana",
   "metadata": {},
   "outputs": [
    {
     "name": "stdout",
     "output_type": "stream",
     "text": [
      "Total agreements: 930\n",
      "Disagreements where Regulated=1 and Significant=0: 0\n",
      "Disagreements where Regulated=0 and Significant=1: 62\n"
     ]
    }
   ],
   "source": [
    "df_regulated = df[\"Regulated\"].values\n",
    "df_significant = df[\"Significant\"].values\n",
    "\n",
    "agreements = np.sum(df_regulated == df_significant)\n",
    "\n",
    "# Compute disagreements\n",
    "only_regulated = np.sum((df_regulated == 1) & (df_significant == 0))  # (1, 0) case\n",
    "only_significant = np.sum((df_regulated == 0) & (df_significant == 1))  # (0, 1) case\n",
    "\n",
    "# Output results\n",
    "print(\"Total agreements:\", agreements)\n",
    "print(\"Disagreements where Regulated=1 and Significant=0:\", only_regulated)\n",
    "print(\"Disagreements where Regulated=0 and Significant=1:\", only_significant)"
   ]
  },
  {
   "cell_type": "code",
   "execution_count": 8,
   "id": "rising-seafood",
   "metadata": {},
   "outputs": [],
   "source": [
    "features, labels, noisy_labels, power, p_value, effect, groups = load_enhancer()"
   ]
  },
  {
   "cell_type": "code",
   "execution_count": 9,
   "id": "aggressive-declaration",
   "metadata": {},
   "outputs": [
    {
     "name": "stdout",
     "output_type": "stream",
     "text": [
      "Unique values: [0 1]\n",
      "Counts: [574 418]\n"
     ]
    }
   ],
   "source": [
    "# Get unique values and their counts\n",
    "unique_values, counts = np.unique(labels, return_counts=True)\n",
    "\n",
    "# Display result\n",
    "print(\"Unique values:\", unique_values)\n",
    "print(\"Counts:\", counts)"
   ]
  },
  {
   "cell_type": "code",
   "execution_count": 10,
   "id": "complex-commitment",
   "metadata": {},
   "outputs": [
    {
     "name": "stdout",
     "output_type": "stream",
     "text": [
      "Unique values: [0 1]\n",
      "Counts: [116  91]\n"
     ]
    }
   ],
   "source": [
    "X_train, X_test, y_train, y_test, yn_train, yn_test, effect_train, effect_test, group_train, group_test = enhancer_train_test_split(features, labels, noisy_labels, effect, test_size=0.2, random_state=2028)\n",
    "# Get unique values and their counts\n",
    "unique_values, counts = np.unique(y_test, return_counts=True)\n",
    "\n",
    "# Display result\n",
    "print(\"Unique values:\", unique_values)\n",
    "print(\"Counts:\", counts)"
   ]
  },
  {
   "cell_type": "code",
   "execution_count": 52,
   "id": "advance-serial",
   "metadata": {},
   "outputs": [],
   "source": [
    "n_models = 1000\n",
    "max_iter = 10000\n",
    "model_type = \"LR\"\n",
    "epsilon = 0.1\n",
    "noise_level = 0.05 #T1 Error"
   ]
  },
  {
   "cell_type": "code",
   "execution_count": 53,
   "id": "czech-reputation",
   "metadata": {},
   "outputs": [],
   "source": [
    "def generate_abstain_data_enhancer(n_models, max_iter, model_type = \"LR\", epsilon = 0.1):\n",
    "    \n",
    "    losses, draw_ids =  [], []\n",
    "    \n",
    "    plausible_labels_train_all, plausible_labels_test_all  = [], []\n",
    "    \n",
    "    preds_train_all, preds_test_all = [], []\n",
    "    \n",
    "    probs_train_all, probs_test_all = [], []\n",
    "\n",
    "    final_model_probs_train_all, final_model_probs_test_all = [], []\n",
    "    \n",
    "    features, labels, noisy_labels, power, p_value, effect, groups = load_enhancer()\n",
    "    \n",
    "    for draw_id in [2025, 2026, 2027, 2028, 2029]:\n",
    "        X_train, X_test, y_train, y_test, yn_train, yn_test, effect_train, effect_test, group_train, group_test = enhancer_train_test_split(features, labels, noisy_labels, effect, test_size=0.2, random_state=draw_id)\n",
    "\n",
    "\n",
    "        yn_train = yn_train.astype(int)\n",
    "        yn_test = yn_test.astype(int)\n",
    "\n",
    "        y_train = y_train.astype(int)\n",
    "        y_test = y_test.astype(int)\n",
    "\n",
    "        p_y_x_dict =  calculate_prior(y_train, group=group_train) #Clean prior\n",
    "\n",
    "        T_dict = generate_T_dict(power, p_value, groups)\n",
    "        \n",
    "    \n",
    "        plausible_labels_train, plausible_labels_test, preds_train, preds_test, probs_train, probs_test = run_procedure_abstain(\n",
    "                            n_models, max_iter, X_train, yn_train, X_test, yn_test, y_test, p_y_x_dict, \n",
    "                            group_train=group_train, group_test=group_test, noise_type=\"group\", \n",
    "                            model_type=model_type, T=T_dict, epsilon=epsilon, misspecify=True)\n",
    "        \n",
    "        \n",
    "        # Train final model on noisy labels\n",
    "        model, (train_acc, test_acc, train_probs, test_probs, \n",
    "                train_loss, test_loss, train_preds, test_preds) = train_model_ours_regret(\n",
    "            X_train, yn_train, X_test, y_test, seed=2030, model_type=model_type)\n",
    "        \n",
    "        # Store results\n",
    "\n",
    "        losses.append(\"BCE\")\n",
    "        draw_ids.append(draw_id)\n",
    "\n",
    "        plausible_labels_train_all.append(plausible_labels_train)\n",
    "        plausible_labels_test_all.append(plausible_labels_test)\n",
    "        \n",
    "        preds_train_all.append(preds_train)\n",
    "        preds_test_all.append(preds_test)\n",
    "        \n",
    "        probs_train_all.append(probs_train)\n",
    "        probs_test_all.append(probs_test)\n",
    "\n",
    "        final_model_probs_train_all.append(train_probs)\n",
    "        final_model_probs_test_all.append(test_probs)\n",
    "\n",
    "    # Convert results into a structured dictionary\n",
    "    data = {\n",
    "\n",
    "        \"loss\": losses,\n",
    "        \"plausible_labels_train\": plausible_labels_train_all,\n",
    "        \"plausible_labels_test\": plausible_labels_test_all,\n",
    "        \"probs_train\": probs_train_all,\n",
    "        \"probs_test\": probs_test_all,\n",
    "        \"preds_train\": preds_train_all,\n",
    "        \"preds_test\": preds_test_all,\n",
    "        \"final_model_probs_train\": final_model_probs_train_all,\n",
    "        \"final_model_probs_test\": final_model_probs_test_all,\n",
    "\n",
    "        \"draw_id\": draw_ids\n",
    "    }\n",
    "    return data\n",
    "\n",
    "\n",
    "def compute_abstain_metrics_enhancer(preds, criteria, y_vec, yn_vec, abstain_percentage):\n",
    "    \"\"\"\n",
    "    Compute abstention-aware classification metrics for enhancer discovery.\n",
    "\n",
    "    Args:\n",
    "        preds (np.ndarray): Predicted labels (binary: 0 or 1).\n",
    "        y_vec (np.ndarray): True labels (binary: 0 or 1).\n",
    "        y_vec (np.ndarray): Noisy labels (binary: 0 or 1).\n",
    "        criteria (np.ndarray): Abstention criteria scores for each instance.\n",
    "        abstain_percentage (float): Percentage of instances to abstain.\n",
    "        cost_per_experiment (float): Cost per experiment (default = 1.0).\n",
    "\n",
    "    Returns:\n",
    "        dict: Dictionary of computed metrics including PPV, Recall, Specificity, FDR, Abstention Rate, etc.\n",
    "    \"\"\"\n",
    "    n = len(preds)\n",
    "    \n",
    "    # Determine abstained instances\n",
    "    abstain_count = int(abstain_percentage * n)\n",
    "    abstain = abstain_order(criteria, abstain_count)\n",
    "    non_abstain = (1 - abstain).astype(bool)  # Mask of non-abstained instances\n",
    "\n",
    "    coverage = np.sum(non_abstain) / n  # Fraction of retained instances\n",
    "    abstention_rate = 1 - coverage  # Proportion of abstained cases\n",
    "\n",
    "    # Subset data for evaluation\n",
    "    preds_subset = preds[non_abstain]\n",
    "    y_subset = y_vec[non_abstain]\n",
    "\n",
    "    err_true = abs(preds - y_vec)  # Full error vector\n",
    "    subset_err_true = err_true[non_abstain]\n",
    "    \n",
    "    err_anticipated = abs(preds - yn_vec)  # full err_anticipated\n",
    "    subset_err_anticipated = err_anticipated[non_abstain]\n",
    "    \n",
    "    regret = (1/n)*np.sum(abs(subset_err_anticipated - subset_err_true))/ coverage if coverage > 0 else 0.0\n",
    "    \n",
    "    # Clean risk (Test Error)\n",
    "    risk = np.sum(subset_err_true) / (n * coverage) if coverage > 0 else 0.0\n",
    "\n",
    "    # Compute Confusion Matrix Components\n",
    "    tp = np.sum((preds_subset == 1) & (y_subset == 1))  # True Positives\n",
    "    fp = np.sum((preds_subset == 1) & (y_subset == 0))  # False Positives\n",
    "    tn = np.sum((preds_subset == 0) & (y_subset == 0))  # True Negatives\n",
    "    fn = np.sum((preds_subset == 0) & (y_subset == 1))  # False Negatives\n",
    "    \n",
    "    # PPV (Precision)\n",
    "    ppv = tp / (tp + fp) if (tp + fp) > 0 else 0.0\n",
    "\n",
    "    # Sensitivity / Recall (TPR)\n",
    "    recall = tp / (tp + fn) if (tp + fn) > 0 else 0.0\n",
    "\n",
    "    # Specificity (TNR)\n",
    "    specificity = tn / (tn + fp) if (tn + fp) > 0 else 0.0\n",
    "\n",
    "    # False Discovery Rate (FDR)\n",
    "    fdr = fp / (tp + fp) if (tp + fp) > 0 else 0.0\n",
    "\n",
    "    # Discovery Rate (Proportion of experiments still performed)\n",
    "    discovery_rate = (tp + fp) / np.sum(non_abstain) if np.sum(non_abstain) > 0 else 0.0\n",
    "\n",
    "   \n",
    "    return {\n",
    "        'coverage': 100 * coverage,\n",
    "        'abstention_rate': 100 * abstention_rate,\n",
    "        'regret': 100 * regret,\n",
    "        'risk': 100 * risk,\n",
    "        'ppv': 100 * ppv,\n",
    "        'recall': 100 * recall,\n",
    "        'specificity': 100 * specificity,\n",
    "        'fdr': 100 * fdr,\n",
    "        'discovery_rate': 100 * discovery_rate\n",
    "    }\n",
    "    \n",
    "\n",
    "def metrics_active_learning_enhancer(noise_type, model_type, data, fixed_class=0, fixed_noise=0.0, experiment_type = \"abstain\", threshold = 0.5):\n",
    "    \"\"\"\n",
    "    Runs an experiment with two abstention handling strategies: \"drop\" and \"relabel\".\n",
    "    \n",
    "    Args:\n",
    "        dataset (str): Name of the dataset.\n",
    "        noise_type (str): Type of noise (\"class_independent\" or \"class_conditional\").\n",
    "        model_type (str): Type of model to train.\n",
    "        data (pd.DataFrame): Dataframe containing abstain-related results.\n",
    "        fixed_class (int): Fixed class for noise generation.\n",
    "        fixed_noise (float): Fixed noise level.\n",
    "\n",
    "    Returns:\n",
    "        pd.DataFrame: Results containing abstention metrics and retrained model performance.\n",
    "    \"\"\"\n",
    "    results = []\n",
    "\n",
    "    \n",
    "    # Convert dataframe for faster processing\n",
    "    df = pd.DataFrame(data)\n",
    "\n",
    "    # Precompute unique values to avoid repeated calls\n",
    "    unique_losses = df[\"loss\"].unique()\n",
    "    unique_draw_ids = df[\"draw_id\"].unique()\n",
    "\n",
    "    metric_lis = [\"risk\", \"regret\", \"discovery_rate\", \"ppv\", \"fdr\", \"specificity\", \"recall\"]\n",
    "    abstain_percentages = np.linspace(0, 0.99, 200)\n",
    "\n",
    "    for loss in unique_losses:\n",
    "        for draw_id in  tqdm(unique_draw_ids, desc=\"Processing Draws\"):\n",
    "\n",
    "            # Load dataset splits\n",
    "            X_train, X_test, y_train, y_test, yn_train, yn_test, effect_train, effect_test, group_train, group_test = enhancer_train_test_split(features, labels, noisy_labels, effect, test_size=0.2, random_state=draw_id)\n",
    "\n",
    "\n",
    "            yn_train = yn_train.astype(int)\n",
    "            yn_test = yn_test.astype(int)\n",
    "\n",
    "            y_train = y_train.astype(int)\n",
    "            y_test = y_test.astype(int)\n",
    "\n",
    "            p_y_x_dict =  calculate_prior(y_train, group=group_train) #Clean prior\n",
    "\n",
    "            T_dict = generate_T_dict(power, p_value, groups)\n",
    "\n",
    "\n",
    "            # Compute noisy labels\n",
    "#             u_vec = get_u(y_train, T=T_dict, seed=draw_id, noise_type=noise_type, group = group_train)\n",
    "#             yn_train = flip_labels(y_train, u_vec) \n",
    "\n",
    "            # Filter once and reuse\n",
    "            sub_df = df[(df[\"loss\"] == loss) & (df[\"draw_id\"] == draw_id)].iloc[0]\n",
    "\n",
    "            plausible_labels_train = sub_df.plausible_labels_train\n",
    "            plausible_labels_test = sub_df.plausible_labels_test\n",
    "            probs_train, probs_test = sub_df.probs_train, sub_df.probs_test\n",
    "            preds_train, preds_test = sub_df.preds_train, sub_df.preds_test\n",
    "            model_probs_train, model_probs_test = sub_df.final_model_probs_train, sub_df.final_model_probs_test\n",
    "            \n",
    "            #model_preds_train = np.argmax(model_probs_train, axis=1)\n",
    "            #model_preds_test = np.argmax(model_probs_test, axis=1)\n",
    "            \n",
    "            # Define a probability threshold for classifying as positive\n",
    "            #threshold = 0.9  # Adjust this value if needed\n",
    "            \n",
    "            # Apply thresholding across all models (each value represents P(y=1 | x))\n",
    "#             preds_train = (probs_train >= threshold).astype(int)  # Shape: (m, k)\n",
    "#             preds_test = (probs_test >= threshold).astype(int)  # Shape: (m, k)\n",
    "\n",
    "            # Apply threshold-based classification\n",
    "            model_preds_train = (model_probs_train[:, 1] >= threshold).astype(int)\n",
    "            model_preds_test = (model_probs_test[:, 1] >= threshold).astype(int)\n",
    "\n",
    "\n",
    "            # Compute various abstention criteria\n",
    "            ambiguity_train = calculate_ambiguity(preds_train, plausible_labels_train)\n",
    "            ambiguity_test = calculate_ambiguity(model_preds_test, preds_test)\n",
    "\n",
    "            confidence_train = np.max(model_probs_train, axis=1)\n",
    "            uncertainty_train = 1 - confidence_train\n",
    "\n",
    "            confidence_test = np.max(model_probs_test, axis=1)\n",
    "            uncertainty_test = 1 - confidence_test\n",
    "\n",
    "\n",
    "            for abstain_pct in tqdm(abstain_percentages, desc=\"Processing Abstain Levels\"):\n",
    "\n",
    "\n",
    "                # Loop over test criteria methods\n",
    "                for method_name, crit in [(\"confidence\", uncertainty_test),\n",
    "                                            (\"ambiguity\", ambiguity_test)]:\n",
    "\n",
    "                    # Compute abstain metrics on TEST set\n",
    "                    abstain_metrics = compute_abstain_metrics_enhancer(preds = model_preds_test,\n",
    "                                                                       criteria = crit,\n",
    "                                                                       abstain_percentage = abstain_pct, \n",
    "                                                                       y_vec=y_test, \n",
    "                                                                       yn_vec=yn_test)\n",
    "                    for metric in metric_lis:\n",
    "                        results.append({\n",
    "                            \"metric\": metric,\n",
    "                            \"value\": abstain_metrics[metric],\n",
    "                            \"coverage\": abstain_metrics[\"coverage\"],\n",
    "                            \"threshold\": abstain_pct,\n",
    "                            \"loss\": loss,\n",
    "                            \"draw_id\": draw_id,\n",
    "                            \"method\": method_name,\n",
    "                            \"experiment_type\": \"abstain\"\n",
    "                        })\n",
    "                # Loop over training criteria methods\n",
    "#                 for method_name, crit in [(\"confidence\", uncertainty_train),\n",
    "#                                             (\"ambiguity\", ambiguity_train)]:\n",
    "#                     for exp_type in [\"relabel\", \"drop\"]:\n",
    "\n",
    "#                         abstain_count = int(abstain_pct * len(X_train))\n",
    "#                         abstain = abstain_order(crit, abstain_count)\n",
    "#                         non_abstain = (1 - abstain).astype(bool)\n",
    "#                         coverage = np.mean(non_abstain) * 100\n",
    "\n",
    "#                         if exp_type == \"drop\":\n",
    "#                             X_train_subset = X_train[non_abstain]\n",
    "#                             yn_train_subset = yn_train[non_abstain]\n",
    "#                         elif exp_type == \"relabel\":\n",
    "#                             yn_train_relabel = yn_train.copy()\n",
    "#                             yn_train_relabel[abstain.astype(bool)] = y_train[abstain.astype(bool)]\n",
    "#                             X_train_subset = X_train\n",
    "#                             yn_train_subset = yn_train_relabel\n",
    "\n",
    "#                         try:\n",
    "#                             # Retrain model using the selected strategy\n",
    "#                             model, (train_acc, test_acc, _, _, train_loss, test_loss, _, _) = train_model_ours_regret(\n",
    "#                                 X_train_subset, yn_train_subset, X_test, y_test, 2024, model_type=model_type\n",
    "#                             )\n",
    "\n",
    "#                             # Compute abstain metrics on TEST set\n",
    "#                             abstain_metrics = compute_abstain_metrics_enhancer(reds = model_preds_test,\n",
    "#                                                                        criteria = crit,\n",
    "#                                                                        abstain_percentage = 0, \n",
    "#                                                                        y_vec=y_test, \n",
    "#                                                                        yn_vec=yn_test)\n",
    "\n",
    "#                             for metric in metric_lis:\n",
    "#                                 results.append({\n",
    "#                                     \"metric\": metric,\n",
    "#                                     \"value\": abstain_metrics[metric],\n",
    "#                                     \"coverage\": coverage,\n",
    "#                                     \"threshold\": 0,\n",
    "#                                     \"loss\": loss,\n",
    "#                                     \"draw_id\": draw_id,\n",
    "#                                     \"method\": method_name,\n",
    "#                                     \"experiment_type\": \"abstain\"\n",
    "#                                 })\n",
    "#                         except:\n",
    "#                             pass\n",
    "                        \n",
    "\n",
    "\n",
    "    return pd.DataFrame(results)\n",
    "\n"
   ]
  },
  {
   "cell_type": "code",
   "execution_count": 54,
   "id": "parental-raleigh",
   "metadata": {
    "scrolled": true
   },
   "outputs": [
    {
     "data": {
      "application/vnd.jupyter.widget-view+json": {
       "model_id": "1e0974b051974b63ab70b850eeabbb1f",
       "version_major": 2,
       "version_minor": 0
      },
      "text/plain": [
       "  0%|          | 0/1000 [00:00<?, ?it/s]"
      ]
     },
     "metadata": {},
     "output_type": "display_data"
    },
    {
     "data": {
      "application/vnd.jupyter.widget-view+json": {
       "model_id": "5d7dc981e6df4076a3c8d6a2432e59b0",
       "version_major": 2,
       "version_minor": 0
      },
      "text/plain": [
       "  0%|          | 0/1000 [00:00<?, ?it/s]"
      ]
     },
     "metadata": {},
     "output_type": "display_data"
    },
    {
     "data": {
      "application/vnd.jupyter.widget-view+json": {
       "model_id": "668512ff4e2a4e57ac6c3210b58b5f9f",
       "version_major": 2,
       "version_minor": 0
      },
      "text/plain": [
       "  0%|          | 0/1000 [00:00<?, ?it/s]"
      ]
     },
     "metadata": {},
     "output_type": "display_data"
    },
    {
     "data": {
      "application/vnd.jupyter.widget-view+json": {
       "model_id": "a26adac231834987acb1ed23e614f20f",
       "version_major": 2,
       "version_minor": 0
      },
      "text/plain": [
       "  0%|          | 0/1000 [00:00<?, ?it/s]"
      ]
     },
     "metadata": {},
     "output_type": "display_data"
    },
    {
     "data": {
      "application/vnd.jupyter.widget-view+json": {
       "model_id": "0df9e20da5034549bb94e67db01a412b",
       "version_major": 2,
       "version_minor": 0
      },
      "text/plain": [
       "  0%|          | 0/1000 [00:00<?, ?it/s]"
      ]
     },
     "metadata": {},
     "output_type": "display_data"
    }
   ],
   "source": [
    "data = generate_abstain_data_enhancer(n_models, max_iter, epsilon = epsilon)\n",
    "\n"
   ]
  },
  {
   "cell_type": "code",
   "execution_count": 55,
   "id": "historical-front",
   "metadata": {},
   "outputs": [],
   "source": [
    "# data"
   ]
  },
  {
   "cell_type": "code",
   "execution_count": 56,
   "id": "measured-endorsement",
   "metadata": {},
   "outputs": [],
   "source": [
    "with open(\"enhancer.pkl\", 'wb') as file:\n",
    "            # Use pickle to write the dictionary to the file\n",
    "    pkl.dump(data, file)\n",
    "\n",
    " "
   ]
  },
  {
   "cell_type": "code",
   "execution_count": 57,
   "id": "personalized-reflection",
   "metadata": {},
   "outputs": [],
   "source": [
    "   \n",
    "# with open(\"enhancer.pkl\", 'rb') as file:\n",
    "#             # Use pickle to write the dictionary to the file\n",
    "#     data = pkl.load(file)\n",
    "    \n",
    "# pd.DataFrame(data)"
   ]
  },
  {
   "cell_type": "code",
   "execution_count": 58,
   "id": "stone-sailing",
   "metadata": {
    "scrolled": true
   },
   "outputs": [
    {
     "data": {
      "application/vnd.jupyter.widget-view+json": {
       "model_id": "7bbdfb824a0c4004a98f47329a7de4a3",
       "version_major": 2,
       "version_minor": 0
      },
      "text/plain": [
       "Processing Draws:   0%|          | 0/5 [00:00<?, ?it/s]"
      ]
     },
     "metadata": {},
     "output_type": "display_data"
    },
    {
     "data": {
      "application/vnd.jupyter.widget-view+json": {
       "model_id": "34fa7c532f7f46e199a19052102c626b",
       "version_major": 2,
       "version_minor": 0
      },
      "text/plain": [
       "Processing Abstain Levels:   0%|          | 0/200 [00:00<?, ?it/s]"
      ]
     },
     "metadata": {},
     "output_type": "display_data"
    },
    {
     "data": {
      "application/vnd.jupyter.widget-view+json": {
       "model_id": "979b3589d1d24f3da299686fe8e7a7fc",
       "version_major": 2,
       "version_minor": 0
      },
      "text/plain": [
       "Processing Abstain Levels:   0%|          | 0/200 [00:00<?, ?it/s]"
      ]
     },
     "metadata": {},
     "output_type": "display_data"
    },
    {
     "data": {
      "application/vnd.jupyter.widget-view+json": {
       "model_id": "da3690837d294600b96259783147d663",
       "version_major": 2,
       "version_minor": 0
      },
      "text/plain": [
       "Processing Abstain Levels:   0%|          | 0/200 [00:00<?, ?it/s]"
      ]
     },
     "metadata": {},
     "output_type": "display_data"
    },
    {
     "data": {
      "application/vnd.jupyter.widget-view+json": {
       "model_id": "4a18ff6cef7341c88b52872f46bc4a83",
       "version_major": 2,
       "version_minor": 0
      },
      "text/plain": [
       "Processing Abstain Levels:   0%|          | 0/200 [00:00<?, ?it/s]"
      ]
     },
     "metadata": {},
     "output_type": "display_data"
    },
    {
     "data": {
      "application/vnd.jupyter.widget-view+json": {
       "model_id": "00554798ebd64af8b8468577534d80db",
       "version_major": 2,
       "version_minor": 0
      },
      "text/plain": [
       "Processing Abstain Levels:   0%|          | 0/200 [00:00<?, ?it/s]"
      ]
     },
     "metadata": {},
     "output_type": "display_data"
    }
   ],
   "source": [
    "threshold = 0.9\n",
    "all_metrics = metrics_active_learning_enhancer(noise_type, model_type, data, experiment_type = \"abstain\", threshold = threshold)"
   ]
  },
  {
   "cell_type": "code",
   "execution_count": 59,
   "id": "suitable-essay",
   "metadata": {},
   "outputs": [
    {
     "data": {
      "text/html": [
       "<div>\n",
       "<style scoped>\n",
       "    .dataframe tbody tr th:only-of-type {\n",
       "        vertical-align: middle;\n",
       "    }\n",
       "\n",
       "    .dataframe tbody tr th {\n",
       "        vertical-align: top;\n",
       "    }\n",
       "\n",
       "    .dataframe thead th {\n",
       "        text-align: right;\n",
       "    }\n",
       "</style>\n",
       "<table border=\"1\" class=\"dataframe\">\n",
       "  <thead>\n",
       "    <tr style=\"text-align: right;\">\n",
       "      <th></th>\n",
       "      <th>metric</th>\n",
       "      <th>value</th>\n",
       "      <th>coverage</th>\n",
       "      <th>threshold</th>\n",
       "      <th>loss</th>\n",
       "      <th>draw_id</th>\n",
       "      <th>method</th>\n",
       "      <th>experiment_type</th>\n",
       "    </tr>\n",
       "  </thead>\n",
       "  <tbody>\n",
       "    <tr>\n",
       "      <th>0</th>\n",
       "      <td>risk</td>\n",
       "      <td>28.019324</td>\n",
       "      <td>100.000000</td>\n",
       "      <td>0.00</td>\n",
       "      <td>BCE</td>\n",
       "      <td>2025</td>\n",
       "      <td>confidence</td>\n",
       "      <td>abstain</td>\n",
       "    </tr>\n",
       "    <tr>\n",
       "      <th>1</th>\n",
       "      <td>regret</td>\n",
       "      <td>7.246377</td>\n",
       "      <td>100.000000</td>\n",
       "      <td>0.00</td>\n",
       "      <td>BCE</td>\n",
       "      <td>2025</td>\n",
       "      <td>confidence</td>\n",
       "      <td>abstain</td>\n",
       "    </tr>\n",
       "    <tr>\n",
       "      <th>2</th>\n",
       "      <td>discovery_rate</td>\n",
       "      <td>15.942029</td>\n",
       "      <td>100.000000</td>\n",
       "      <td>0.00</td>\n",
       "      <td>BCE</td>\n",
       "      <td>2025</td>\n",
       "      <td>confidence</td>\n",
       "      <td>abstain</td>\n",
       "    </tr>\n",
       "    <tr>\n",
       "      <th>3</th>\n",
       "      <td>ppv</td>\n",
       "      <td>84.848485</td>\n",
       "      <td>100.000000</td>\n",
       "      <td>0.00</td>\n",
       "      <td>BCE</td>\n",
       "      <td>2025</td>\n",
       "      <td>confidence</td>\n",
       "      <td>abstain</td>\n",
       "    </tr>\n",
       "    <tr>\n",
       "      <th>4</th>\n",
       "      <td>fdr</td>\n",
       "      <td>15.151515</td>\n",
       "      <td>100.000000</td>\n",
       "      <td>0.00</td>\n",
       "      <td>BCE</td>\n",
       "      <td>2025</td>\n",
       "      <td>confidence</td>\n",
       "      <td>abstain</td>\n",
       "    </tr>\n",
       "    <tr>\n",
       "      <th>...</th>\n",
       "      <td>...</td>\n",
       "      <td>...</td>\n",
       "      <td>...</td>\n",
       "      <td>...</td>\n",
       "      <td>...</td>\n",
       "      <td>...</td>\n",
       "      <td>...</td>\n",
       "      <td>...</td>\n",
       "    </tr>\n",
       "    <tr>\n",
       "      <th>13995</th>\n",
       "      <td>discovery_rate</td>\n",
       "      <td>0.000000</td>\n",
       "      <td>1.449275</td>\n",
       "      <td>0.99</td>\n",
       "      <td>BCE</td>\n",
       "      <td>2029</td>\n",
       "      <td>ambiguity</td>\n",
       "      <td>abstain</td>\n",
       "    </tr>\n",
       "    <tr>\n",
       "      <th>13996</th>\n",
       "      <td>ppv</td>\n",
       "      <td>0.000000</td>\n",
       "      <td>1.449275</td>\n",
       "      <td>0.99</td>\n",
       "      <td>BCE</td>\n",
       "      <td>2029</td>\n",
       "      <td>ambiguity</td>\n",
       "      <td>abstain</td>\n",
       "    </tr>\n",
       "    <tr>\n",
       "      <th>13997</th>\n",
       "      <td>fdr</td>\n",
       "      <td>0.000000</td>\n",
       "      <td>1.449275</td>\n",
       "      <td>0.99</td>\n",
       "      <td>BCE</td>\n",
       "      <td>2029</td>\n",
       "      <td>ambiguity</td>\n",
       "      <td>abstain</td>\n",
       "    </tr>\n",
       "    <tr>\n",
       "      <th>13998</th>\n",
       "      <td>specificity</td>\n",
       "      <td>100.000000</td>\n",
       "      <td>1.449275</td>\n",
       "      <td>0.99</td>\n",
       "      <td>BCE</td>\n",
       "      <td>2029</td>\n",
       "      <td>ambiguity</td>\n",
       "      <td>abstain</td>\n",
       "    </tr>\n",
       "    <tr>\n",
       "      <th>13999</th>\n",
       "      <td>recall</td>\n",
       "      <td>0.000000</td>\n",
       "      <td>1.449275</td>\n",
       "      <td>0.99</td>\n",
       "      <td>BCE</td>\n",
       "      <td>2029</td>\n",
       "      <td>ambiguity</td>\n",
       "      <td>abstain</td>\n",
       "    </tr>\n",
       "  </tbody>\n",
       "</table>\n",
       "<p>14000 rows × 8 columns</p>\n",
       "</div>"
      ],
      "text/plain": [
       "               metric       value    coverage  threshold loss  draw_id  \\\n",
       "0                risk   28.019324  100.000000       0.00  BCE     2025   \n",
       "1              regret    7.246377  100.000000       0.00  BCE     2025   \n",
       "2      discovery_rate   15.942029  100.000000       0.00  BCE     2025   \n",
       "3                 ppv   84.848485  100.000000       0.00  BCE     2025   \n",
       "4                 fdr   15.151515  100.000000       0.00  BCE     2025   \n",
       "...               ...         ...         ...        ...  ...      ...   \n",
       "13995  discovery_rate    0.000000    1.449275       0.99  BCE     2029   \n",
       "13996             ppv    0.000000    1.449275       0.99  BCE     2029   \n",
       "13997             fdr    0.000000    1.449275       0.99  BCE     2029   \n",
       "13998     specificity  100.000000    1.449275       0.99  BCE     2029   \n",
       "13999          recall    0.000000    1.449275       0.99  BCE     2029   \n",
       "\n",
       "           method experiment_type  \n",
       "0      confidence         abstain  \n",
       "1      confidence         abstain  \n",
       "2      confidence         abstain  \n",
       "3      confidence         abstain  \n",
       "4      confidence         abstain  \n",
       "...           ...             ...  \n",
       "13995   ambiguity         abstain  \n",
       "13996   ambiguity         abstain  \n",
       "13997   ambiguity         abstain  \n",
       "13998   ambiguity         abstain  \n",
       "13999   ambiguity         abstain  \n",
       "\n",
       "[14000 rows x 8 columns]"
      ]
     },
     "execution_count": 59,
     "metadata": {},
     "output_type": "execute_result"
    }
   ],
   "source": [
    "all_metrics"
   ]
  },
  {
   "cell_type": "code",
   "execution_count": 68,
   "id": "round-income",
   "metadata": {
    "scrolled": false
   },
   "outputs": [],
   "source": [
    "import matplotlib.ticker as mtick\n",
    "\n",
    "\n",
    "def plot_enhancer_metrics(data, loss_type=\"BCE\", group=False):\n",
    "    # Calculate the delta risk and delta auprc for abstention rate = 0\n",
    "    data[\"abstention\"] = 100-data[\"coverage\"]\n",
    "    data['method'] = data['method'].str.capitalize()\n",
    "    \n",
    "    data = data[data[\"coverage\"]>50]\n",
    "    data = data[data[\"method\"]!= \"Disagreement\"]\n",
    "    \n",
    "    #data = data[data[\"draw_id\"]==2028]\n",
    "    # Define your custom color palette for each method\n",
    "    \n",
    "    methods_include = [\"\"]\n",
    "       \n",
    "    method_colors = {\n",
    "        \"Ambiguity\": \"#8896FB\",  # Purple\n",
    "        \"Majority\":  \"#800080\",  # Red\n",
    "        \"Loo\":  \"#00FF00\",\n",
    "        \"Mean_plausible\":  \"#228B22\",\n",
    "        \"Conformal\": \"#93C572\",\n",
    "        \"Confidence\": \"#ce3d26\",\n",
    "        \"Entropy\": \"#2478d8\",\n",
    "        \"Disagreement\": \"#1b334f\"\n",
    "        \n",
    "    }\n",
    "    \n",
    "    # Define your custom color palette for each loss type\n",
    "    loss_colors = {\n",
    "        \"BCE\": \"#8896FB\",\n",
    "        \"forward\": \"#fc8803\",\n",
    "        \"backward\": \"#4ed476\"\n",
    "    }\n",
    "    \n",
    "    # Set the font style to sans-serif\n",
    "    plt.rcParams[\"font.family\"] = \"sans-serif\"\n",
    "    \n",
    "    # Focus only on metrics where abstention rate is 0\n",
    "    metrics = [\"recall\",\"risk\"]\n",
    "               #\"regret\",\n",
    "               #\"discovery_rate\", \n",
    "               #\"ppv\", \n",
    "               #\"fdr\",\n",
    "               # \"recall\",\n",
    "               #\"specificity\"\n",
    "    \n",
    "    # Create box plots for each metric at abstention rate = 0\n",
    "    fig, axes = plt.subplots(1, len(metrics), figsize=(5 * len(metrics), 5))\n",
    "    \n",
    "        # Calculate baseline values where threshold = 0 for each split, method, and metric\n",
    "    baseline_data = data[data[\"abstention\"] == 0].set_index([\"draw_id\", \"metric\", \"method\"])\n",
    "    \n",
    "\n",
    "    # Create a new DataFrame to store the deltas\n",
    "    delta_data = []\n",
    "    \n",
    "    # Loop through each row where threshold is not 0\n",
    "    for index, row in data[data[\"coverage\"] != 0].iterrows():\n",
    "        #baseline_value = baseline_data.loc[(row[\"draw_id\"], row[\"metric\"],  row[\"method\"]), \"value\"]\n",
    "        baseline_value = 0\n",
    "        delta_value = row[\"value\"] - baseline_value  # Calculate the delta\n",
    "        delta_row = row.copy()\n",
    "        delta_row[\"delta\"] = delta_value  # Add the delta value to the new row\n",
    "        delta_data.append(delta_row)\n",
    "\n",
    "    # Convert the delta_data back into a DataFrame\n",
    "    delta_data_df = pd.DataFrame(delta_data)\n",
    "\n",
    "    y_labels = {\"risk\": \"Test Error\", \n",
    "                \"discovery_rate\": \"Discovery Rate\", \n",
    "                \"fdr\": \"False Discovery Rate\",\n",
    "                \"specificity\": \"Specificity\",\n",
    "                \"recall\": \"Hit Rate\",\n",
    "                \"ppv\": \"PPV\", \n",
    "                \"num_pos\": \n",
    "                \"Positive Abstentions\", \n",
    "                \"regret\":\"Regret\"}\n",
    "    #y_labels = {\"noisy_risk_subset\": \"Test Error %\", \"noisy_auprc_subset\": \"AUPRC %\", \"noisy_ppv_subset\": \"PPV %\", \"num_pos_subset\": \"Positive Predictions\", \"regret_subset\":\"Regret\"}\n",
    "    \n",
    "    for metric, ax in zip(metrics, axes):\n",
    "        method_data = delta_data_df[delta_data_df[\"metric\"] == metric]\n",
    "#         if metric == \"noisy_risk\":\n",
    "#             method_data[\"delta\"]= (method_data[\"delta\"]*-1)\n",
    "        \n",
    "\n",
    "        sns.lineplot(data=method_data, x=\"abstention\", y=\"delta\", hue = \"method\", ax=ax, palette=method_colors)\n",
    "        ax.legend().remove()  \n",
    "        ax.set_xlabel(\"Abstention Rate\", fontsize=14)\n",
    "        ax.set_ylabel(y_labels[metric], fontsize=14)  # Use Δ symbol for delta\n",
    "        #ax.set_title(f\"{metric.replace('delta_', 'Δ ')}\", fontsize=16)\n",
    "        ax.grid(True, which='both', color='grey', linestyle='-', linewidth=0.5)\n",
    "        ax.tick_params(axis='both', which='major', labelsize=12)\n",
    "        \n",
    "        ax.xaxis.set_major_formatter(mtick.PercentFormatter(decimals = 0))\n",
    "        ax.yaxis.set_major_formatter(mtick.PercentFormatter(decimals = 0))\n",
    "        \n",
    "        ax.yaxis.get_major_locator().set_params(integer=True)\n",
    "    # Add a shared legend at the bottom, as close as possible without extra white space\n",
    "    handles, labels = ax.get_legend_handles_labels()\n",
    "    fig.legend(handles, labels, loc='lower center', bbox_to_anchor=(0.5, -0.1), fontsize=15, title_fontsize=16, ncol=3)\n",
    "    \n",
    "    plt.tight_layout()\n",
    "    plt.savefig('/h/snagaraj/noise_multiplicity/figures/enhancer.pdf', dpi=300, bbox_inches='tight')\n",
    "\n",
    "   \n",
    "    plt.show()\n",
    "\n",
    "\n"
   ]
  },
  {
   "cell_type": "code",
   "execution_count": 69,
   "id": "pursuant-spotlight",
   "metadata": {},
   "outputs": [
    {
     "data": {
      "image/png": "[encoded data removed]",
      "text/plain": [
       "<Figure size 1000x500 with 2 Axes>"
      ]
     },
     "metadata": {},
     "output_type": "display_data"
    }
   ],
   "source": [
    "plot_enhancer_metrics(all_metrics, loss_type=\"BCE\",  group = False)"
   ]
  },
  {
   "cell_type": "code",
   "execution_count": null,
   "id": "thousand-ivory",
   "metadata": {},
   "outputs": [],
   "source": []
  },
  {
   "cell_type": "code",
   "execution_count": null,
   "id": "developed-angel",
   "metadata": {},
   "outputs": [],
   "source": []
  },
  {
   "cell_type": "code",
   "execution_count": null,
   "id": "martial-divorce",
   "metadata": {},
   "outputs": [],
   "source": []
  }
 ],
 "metadata": {
  "kernelspec": {
   "display_name": "noisyTS",
   "language": "python",
   "name": "noisyts"
  },
  "language_info": {
   "codemirror_mode": {
    "name": "ipython",
    "version": 3
   },
   "file_extension": ".py",
   "mimetype": "text/x-python",
   "name": "python",
   "nbconvert_exporter": "python",
   "pygments_lexer": "ipython3",
   "version": "3.10.0"
  }
 },
 "nbformat": 4,
 "nbformat_minor": 5
}
