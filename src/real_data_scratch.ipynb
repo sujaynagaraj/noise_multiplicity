{
 "cells": [
  {
   "cell_type": "code",
   "execution_count": 1,
   "id": "worthy-transport",
   "metadata": {},
   "outputs": [],
   "source": [
    "import sys\n",
    "sys.path.insert(0,'..')\n",
    "\n",
    "from src.models import *\n",
    "from src.loss_functions import *\n",
    "from src.noise import *\n",
    "from src.metrics import *\n",
    "from src.plotting import *\n",
    "from src.generate_data import *\n",
    "from src.real_data import *\n",
    "\n",
    "import sklearn\n",
    "import pandas as pd\n",
    "\n",
    "from scipy.stats import bernoulli\n",
    "\n",
    "from operator import xor\n",
    "from sklearn.preprocessing import StandardScaler\n",
    "\n",
    "import pickle as pkl"
   ]
  },
  {
   "cell_type": "code",
   "execution_count": 2,
   "id": "silver-pressure",
   "metadata": {},
   "outputs": [],
   "source": [
    "# datasets = [\"lungcancer\", \"saps\", \"support\"]\n",
    "\n",
    "# random_state = 2024\n",
    "\n",
    "# parent_dir = os.path.abspath(os.path.join(os.getcwd(), os.pardir))\n",
    "\n",
    "# for dataset in datasets:\n",
    "\n",
    "#     print(\"Loaded Data!\")\n",
    "\n",
    "#     X, y, groups_dict = load_dataset(dataset, include_groups = True)\n",
    "\n",
    "\n",
    "#     for group in groups_dict.keys():\n",
    "#         #features, labels, groups = balance_data(X, y, saps = False, groups = groups_dict[group])\n",
    "#         features, labels, groups = X, y, groups_dict[group]\n",
    "#         X_train, X_test, y_train, y_test, group_train, group_test = train_test_split(features, \n",
    "#                                                             labels, \n",
    "#                                                             groups,\n",
    "#                                                             test_size=0.2, \n",
    "#                                                             random_state=2024)\n",
    "#         X_train = X_train\n",
    "#         y_train = y_train.astype(int)\n",
    "#         y_test = y_test.astype(int)\n",
    "\n",
    "#         filepath = os.path.join(parent_dir, \"data\", f\"{dataset}_imbalanced\" , f\"{dataset}_imbalanced_{group}_processed.pkl\")\n",
    "\n",
    "#         with open(filepath, 'wb') as file:\n",
    "#             # Use pickle to write the dictionary to the file\n",
    "#             pkl.dump([X_train, X_test, y_train, y_test, group_train, group_test] , file)\n",
    "\n",
    "#         print(\"Saved Data!\")"
   ]
  },
  {
   "cell_type": "code",
   "execution_count": 3,
   "id": "later-baghdad",
   "metadata": {},
   "outputs": [],
   "source": [
    "\n",
    "\n",
    "def load_metrics(model_type, noise_type, uncertainty_type, metric, group = \"age\",  dataset = 'cshock_eicu', fixed_class = None, fixed_noise = None, epsilon = 0.1, misspecify = \"correct\"):\n",
    "    \n",
    "    parent_dir = os.path.abspath(os.path.join(os.getcwd(), os.pardir))\n",
    "    \n",
    "    #metrics_dir = os.path.join(parent_dir, \"results\", \"raw\", \"metrics\", dataset, model_type, noise_type)\n",
    "    parent_dir = \"/scratch/hdd001/home/snagaraj/\"\n",
    "    metrics_dir = os.path.join(parent_dir, \"results\", \"metrics\", dataset, model_type, noise_type, misspecify)\n",
    "\n",
    "    # Prepare the data\n",
    "    \n",
    "    if uncertainty_type == \"forward\":\n",
    "        loss_functions = [\"Ours\", \"BCE\", \"forward\", \"backward\"]\n",
    "    else:\n",
    "        loss_functions = [\"Ours\"]\n",
    "\n",
    "    \n",
    "    if (\"disagreement\" in metric) or (\"regret\" in metric):\n",
    "        \n",
    "        _, _, y_train, y_test, group_train, group_test = load_dataset_splits(dataset, group = group)\n",
    "        \n",
    "        group_vec = group_test if \"test\" in metric else group_train\n",
    "        label_vec = y_test if \"test\" in metric else y_train\n",
    "        \n",
    "        \n",
    "    rows = []\n",
    "    \n",
    "    for loss_function in loss_functions:\n",
    "        for file_name in os.listdir(metrics_dir):\n",
    "            if file_name.endswith('.pkl') and uncertainty_type in file_name:\n",
    "                path = os.path.join(metrics_dir, file_name)\n",
    "\n",
    "                parts = file_name.split('_')\n",
    "                \n",
    "                if noise_type == \"class_conditional\":\n",
    "                    f_class = int(parts[2])\n",
    "                    f_noise = float(parts[3])\n",
    "                    \n",
    "                    if (f_class != fixed_class) or (f_noise != fixed_noise):\n",
    "                        continue\n",
    "                    \n",
    "                noise = float(parts[1]) # Assumes file name format: {uncertainty}_{noise}_{epsilon}_metrics.pkl\n",
    "                eps = float(parts[-2])\n",
    "\n",
    "                if eps != epsilon:\n",
    "                    continue\n",
    "                \n",
    "                with open(path, 'rb') as file:\n",
    "                    # The noise level and uncertainty type are inferred from the file name\n",
    "                    \n",
    "                    metrics = pkl.load(file)\n",
    "\n",
    "                for m in metrics.data[loss_function].keys():\n",
    "                    \n",
    "                    if m == metric:\n",
    "                        for i, value in enumerate(metrics.data[loss_function][metric]):\n",
    "                            if (\"disagreement\" in metric) or (\"regret\" in metric):\n",
    "                                rows.append({\n",
    "                                    'Metric': m,\n",
    "                                    'Noise Level (%)': round(noise * 100),  # Assume noise is a fraction\n",
    "                                    'Rate (%)': value,\n",
    "                                    'Loss Function': loss_function,\n",
    "                                    'Index': i,\n",
    "                                    \"Class\": label_vec[i],\n",
    "                                    f\"{group}\": group_vec[i]})\n",
    "                \n",
    "                            else:\n",
    "                                rows.append({\n",
    "                                    'Metric': m,\n",
    "                                    'Noise Level (%)': round(noise * 100),  # Assume noise is a fraction\n",
    "                                    'Rate (%)': value,\n",
    "                                    'Loss Function': loss_function,\n",
    "                                    'Index': i })\n",
    "                \n",
    "\n",
    "    # Scan through all files in the directory for the model_type\n",
    "    \n",
    "                    \n",
    "    return pd.DataFrame(rows)\n",
    "\n",
    "\n",
    "def run_procedure_atypical(m, max_iter, X_train, yn_train, X_test, y_test, p_y_x_dict, group_train = None, group_test = None, noise_type = \"class_independent\", model_type = \"LR\", T = None, epsilon = 0.1, misspecify = False):\n",
    "    \n",
    "    typical_count = 0\n",
    "    preds_test = []\n",
    "    preds_train = []\n",
    "    \n",
    "    y_vec = yn_train\n",
    "    \n",
    "    for seed in tqdm(range(1, max_iter+1)):\n",
    "        \n",
    "        u_vec = infer_u(y_vec, group = group_train, noise_type = noise_type, p_y_x_dict = p_y_x_dict,  T = T , seed=seed)\n",
    "        #print(T[0,1],np.mean(u_vec))\n",
    "        typical_flag, difference = is_typical(u_vec, p_y_x_dict, group = group_train,  T = T, y_vec = y_vec, noise_type = noise_type, uncertainty_type = \"backward\", epsilon = epsilon)\n",
    "\n",
    "        if misspecify:\n",
    "            typical_flag = True\n",
    "            \n",
    "        if not typical_flag:\n",
    "            continue\n",
    "            \n",
    "        flipped_labels = flip_labels(y_vec, u_vec)\n",
    "        \n",
    "        model,  (train_acc,\n",
    "                test_acc,\n",
    "                train_probs,\n",
    "                test_probs,\n",
    "                train_loss,\n",
    "                test_loss,\n",
    "                train_preds,\n",
    "                test_preds\n",
    "                ) = train_model_ours(X_train, flipped_labels, X_test, y_test, seed = 2024, model_type=model_type)\n",
    "        \n",
    "        preds_test.append(test_preds)\n",
    "        preds_train.append(train_preds)\n",
    "\n",
    "        typical_count += 1\n",
    "\n",
    "        if typical_count == m:\n",
    "            break\n",
    "            \n",
    "    predictions_test = np.array(preds_test)\n",
    "    disagreement_test = estimate_disagreement(predictions_test)\n",
    "    ambiguity_test = calculate_error_rate(predictions_test, y_test)\n",
    "\n",
    "    predictions_train = np.array(preds_train)\n",
    "    disagreement_train = estimate_disagreement(predictions_train)\n",
    "    ambiguity_train = calculate_error_rate(predictions_train, y_vec)\n",
    "\n",
    "\n",
    "    return disagreement_train, disagreement_test, ambiguity_train, ambiguity_test, difference\n"
   ]
  },
  {
   "cell_type": "code",
   "execution_count": 23,
   "id": "restricted-glossary",
   "metadata": {},
   "outputs": [],
   "source": [
    "model_type = \"LR\"\n",
    "noise_type = \"class_independent\"\n",
    "\n",
    "uncertainty_type = \"forward\"\n",
    "metric = \"regret_train\"\n",
    "dataset = \"cshock_eicu\"\n",
    "fixed_class = 0\n",
    "fixed_noise = 0\n",
    "noise_level = 0.2\n",
    "\n",
    "X_train, X_test, y_train, y_test, group_train, group_test = load_dataset_splits(dataset, group = \"age\")\n",
    "\n",
    "p_y_x_dict =  calculate_prior(y_train, noise_type = noise_type, group=group_train) \n",
    "\n",
    "forward_df = load_metrics(model_type, noise_type, uncertainty_type, metric=metric, dataset=dataset, fixed_class=fixed_class, fixed_noise=fixed_noise)\n",
    "\n",
    "forward_sub_df = forward_df[(forward_df[\"Loss Function\"]==\"Ours\") & (forward_df[\"Noise Level (%)\"]==int(noise_level*100))]\n",
    "\n",
    "forward_values = forward_sub_df[\"Rate (%)\"].values\n",
    "\n",
    "true_values = ((forward_values/100)>0).astype(int)\n"
   ]
  },
  {
   "cell_type": "code",
   "execution_count": 24,
   "id": "senior-intermediate",
   "metadata": {
    "scrolled": true
   },
   "outputs": [
    {
     "data": {
      "application/vnd.jupyter.widget-view+json": {
       "model_id": "6ef726bb468b4a61aa96b2f599d497b5",
       "version_major": 2,
       "version_minor": 0
      },
      "text/plain": [
       "  0%|          | 0/10000 [00:00<?, ?it/s]"
      ]
     },
     "metadata": {},
     "output_type": "display_data"
    },
    {
     "data": {
      "application/vnd.jupyter.widget-view+json": {
       "model_id": "fa25a49d45394a3d91c40b1fb460c21e",
       "version_major": 2,
       "version_minor": 0
      },
      "text/plain": [
       "  0%|          | 0/10000 [00:00<?, ?it/s]"
      ]
     },
     "metadata": {},
     "output_type": "display_data"
    },
    {
     "data": {
      "application/vnd.jupyter.widget-view+json": {
       "model_id": "975a4613659e42e08454309ad7a3ce99",
       "version_major": 2,
       "version_minor": 0
      },
      "text/plain": [
       "  0%|          | 0/10000 [00:00<?, ?it/s]"
      ]
     },
     "metadata": {},
     "output_type": "display_data"
    },
    {
     "data": {
      "application/vnd.jupyter.widget-view+json": {
       "model_id": "053ace4041314c60b6050be93c5a8356",
       "version_major": 2,
       "version_minor": 0
      },
      "text/plain": [
       "  0%|          | 0/10000 [00:00<?, ?it/s]"
      ]
     },
     "metadata": {},
     "output_type": "display_data"
    },
    {
     "data": {
      "application/vnd.jupyter.widget-view+json": {
       "model_id": "96cb49a0ff664da6ae315d918c5adbc4",
       "version_major": 2,
       "version_minor": 0
      },
      "text/plain": [
       "  0%|          | 0/10000 [00:00<?, ?it/s]"
      ]
     },
     "metadata": {},
     "output_type": "display_data"
    },
    {
     "data": {
      "application/vnd.jupyter.widget-view+json": {
       "model_id": "57a36e4dcfb849f1bbb52071c5a510c3",
       "version_major": 2,
       "version_minor": 0
      },
      "text/plain": [
       "  0%|          | 0/10000 [00:00<?, ?it/s]"
      ]
     },
     "metadata": {},
     "output_type": "display_data"
    },
    {
     "data": {
      "application/vnd.jupyter.widget-view+json": {
       "model_id": "e64ef7222fb2463f91efa9f3fef93031",
       "version_major": 2,
       "version_minor": 0
      },
      "text/plain": [
       "  0%|          | 0/10000 [00:00<?, ?it/s]"
      ]
     },
     "metadata": {},
     "output_type": "display_data"
    },
    {
     "data": {
      "application/vnd.jupyter.widget-view+json": {
       "model_id": "a35a016eeaa544bead79c76fafa264c1",
       "version_major": 2,
       "version_minor": 0
      },
      "text/plain": [
       "  0%|          | 0/10000 [00:00<?, ?it/s]"
      ]
     },
     "metadata": {},
     "output_type": "display_data"
    },
    {
     "data": {
      "application/vnd.jupyter.widget-view+json": {
       "model_id": "4125dc34eab3477ea69ad19cd5812249",
       "version_major": 2,
       "version_minor": 0
      },
      "text/plain": [
       "  0%|          | 0/10000 [00:00<?, ?it/s]"
      ]
     },
     "metadata": {},
     "output_type": "display_data"
    },
    {
     "data": {
      "application/vnd.jupyter.widget-view+json": {
       "model_id": "b6b682012055426eb69d4d2eb1784204",
       "version_major": 2,
       "version_minor": 0
      },
      "text/plain": [
       "  0%|          | 0/10000 [00:00<?, ?it/s]"
      ]
     },
     "metadata": {},
     "output_type": "display_data"
    },
    {
     "data": {
      "application/vnd.jupyter.widget-view+json": {
       "model_id": "b5b70bf4b49341f69c5f5bba7af8b7e0",
       "version_major": 2,
       "version_minor": 0
      },
      "text/plain": [
       "  0%|          | 0/10000 [00:00<?, ?it/s]"
      ]
     },
     "metadata": {},
     "output_type": "display_data"
    },
    {
     "data": {
      "application/vnd.jupyter.widget-view+json": {
       "model_id": "162be89d4cf94185aacf47b5d3c95eba",
       "version_major": 2,
       "version_minor": 0
      },
      "text/plain": [
       "  0%|          | 0/10000 [00:00<?, ?it/s]"
      ]
     },
     "metadata": {},
     "output_type": "display_data"
    },
    {
     "data": {
      "application/vnd.jupyter.widget-view+json": {
       "model_id": "6a27de9f7c7b43f7bf0b8f42c8c6744e",
       "version_major": 2,
       "version_minor": 0
      },
      "text/plain": [
       "  0%|          | 0/10000 [00:00<?, ?it/s]"
      ]
     },
     "metadata": {},
     "output_type": "display_data"
    },
    {
     "data": {
      "application/vnd.jupyter.widget-view+json": {
       "model_id": "51f0d483aaca41bc9ce9424158d83858",
       "version_major": 2,
       "version_minor": 0
      },
      "text/plain": [
       "  0%|          | 0/10000 [00:00<?, ?it/s]"
      ]
     },
     "metadata": {},
     "output_type": "display_data"
    },
    {
     "data": {
      "application/vnd.jupyter.widget-view+json": {
       "model_id": "080cc1f28ab040f78751bdc840c428be",
       "version_major": 2,
       "version_minor": 0
      },
      "text/plain": [
       "  0%|          | 0/10000 [00:00<?, ?it/s]"
      ]
     },
     "metadata": {},
     "output_type": "display_data"
    },
    {
     "data": {
      "application/vnd.jupyter.widget-view+json": {
       "model_id": "a21ddd042c6d4e70ae5b4cd628438874",
       "version_major": 2,
       "version_minor": 0
      },
      "text/plain": [
       "  0%|          | 0/10000 [00:00<?, ?it/s]"
      ]
     },
     "metadata": {},
     "output_type": "display_data"
    },
    {
     "data": {
      "application/vnd.jupyter.widget-view+json": {
       "model_id": "d600562896d24169bbd1102122e219e9",
       "version_major": 2,
       "version_minor": 0
      },
      "text/plain": [
       "  0%|          | 0/10000 [00:00<?, ?it/s]"
      ]
     },
     "metadata": {},
     "output_type": "display_data"
    },
    {
     "data": {
      "application/vnd.jupyter.widget-view+json": {
       "model_id": "9da30956d2674ee4a64d575a0cf64600",
       "version_major": 2,
       "version_minor": 0
      },
      "text/plain": [
       "  0%|          | 0/10000 [00:00<?, ?it/s]"
      ]
     },
     "metadata": {},
     "output_type": "display_data"
    },
    {
     "data": {
      "application/vnd.jupyter.widget-view+json": {
       "model_id": "b97b24d0a7f3492db3aedd471a2769b2",
       "version_major": 2,
       "version_minor": 0
      },
      "text/plain": [
       "  0%|          | 0/10000 [00:00<?, ?it/s]"
      ]
     },
     "metadata": {},
     "output_type": "display_data"
    },
    {
     "data": {
      "application/vnd.jupyter.widget-view+json": {
       "model_id": "a9cbe447395d47c79126fb579d6d9638",
       "version_major": 2,
       "version_minor": 0
      },
      "text/plain": [
       "  0%|          | 0/10000 [00:00<?, ?it/s]"
      ]
     },
     "metadata": {},
     "output_type": "display_data"
    },
    {
     "data": {
      "application/vnd.jupyter.widget-view+json": {
       "model_id": "a5b9fbf9d0124c7f973b657035ea6c1c",
       "version_major": 2,
       "version_minor": 0
      },
      "text/plain": [
       "  0%|          | 0/10000 [00:00<?, ?it/s]"
      ]
     },
     "metadata": {},
     "output_type": "display_data"
    },
    {
     "data": {
      "application/vnd.jupyter.widget-view+json": {
       "model_id": "bb6b1d39b5e2435486d3fc47472e2dc3",
       "version_major": 2,
       "version_minor": 0
      },
      "text/plain": [
       "  0%|          | 0/10000 [00:00<?, ?it/s]"
      ]
     },
     "metadata": {},
     "output_type": "display_data"
    },
    {
     "data": {
      "application/vnd.jupyter.widget-view+json": {
       "model_id": "6f14b89d7bfb4c76bc2ee7527eee7ed9",
       "version_major": 2,
       "version_minor": 0
      },
      "text/plain": [
       "  0%|          | 0/10000 [00:00<?, ?it/s]"
      ]
     },
     "metadata": {},
     "output_type": "display_data"
    },
    {
     "data": {
      "application/vnd.jupyter.widget-view+json": {
       "model_id": "b058d66108a844c1946dd51668ef4917",
       "version_major": 2,
       "version_minor": 0
      },
      "text/plain": [
       "  0%|          | 0/10000 [00:00<?, ?it/s]"
      ]
     },
     "metadata": {},
     "output_type": "display_data"
    },
    {
     "data": {
      "application/vnd.jupyter.widget-view+json": {
       "model_id": "8ef7925cc5e84a4188a5937df25a46da",
       "version_major": 2,
       "version_minor": 0
      },
      "text/plain": [
       "  0%|          | 0/10000 [00:00<?, ?it/s]"
      ]
     },
     "metadata": {},
     "output_type": "display_data"
    },
    {
     "data": {
      "application/vnd.jupyter.widget-view+json": {
       "model_id": "60cfe231b6714f5aaa354b609aa23c66",
       "version_major": 2,
       "version_minor": 0
      },
      "text/plain": [
       "  0%|          | 0/10000 [00:00<?, ?it/s]"
      ]
     },
     "metadata": {},
     "output_type": "display_data"
    },
    {
     "data": {
      "application/vnd.jupyter.widget-view+json": {
       "model_id": "bd9794bd34864869b225edaf5cec8f13",
       "version_major": 2,
       "version_minor": 0
      },
      "text/plain": [
       "  0%|          | 0/10000 [00:00<?, ?it/s]"
      ]
     },
     "metadata": {},
     "output_type": "display_data"
    },
    {
     "data": {
      "application/vnd.jupyter.widget-view+json": {
       "model_id": "b07efbbb09bf41bca696109123c049b9",
       "version_major": 2,
       "version_minor": 0
      },
      "text/plain": [
       "  0%|          | 0/10000 [00:00<?, ?it/s]"
      ]
     },
     "metadata": {},
     "output_type": "display_data"
    },
    {
     "data": {
      "application/vnd.jupyter.widget-view+json": {
       "model_id": "2a0d27184eef4d659ae85f5c329b02ac",
       "version_major": 2,
       "version_minor": 0
      },
      "text/plain": [
       "  0%|          | 0/10000 [00:00<?, ?it/s]"
      ]
     },
     "metadata": {},
     "output_type": "display_data"
    },
    {
     "data": {
      "application/vnd.jupyter.widget-view+json": {
       "model_id": "2258968bc28344179c9dff69e3756717",
       "version_major": 2,
       "version_minor": 0
      },
      "text/plain": [
       "  0%|          | 0/10000 [00:00<?, ?it/s]"
      ]
     },
     "metadata": {},
     "output_type": "display_data"
    },
    {
     "data": {
      "application/vnd.jupyter.widget-view+json": {
       "model_id": "80100f4897204987abac06c85b0c29b3",
       "version_major": 2,
       "version_minor": 0
      },
      "text/plain": [
       "  0%|          | 0/10000 [00:00<?, ?it/s]"
      ]
     },
     "metadata": {},
     "output_type": "display_data"
    },
    {
     "data": {
      "application/vnd.jupyter.widget-view+json": {
       "model_id": "e618a2971bbf4d23b117b5a17de9d29d",
       "version_major": 2,
       "version_minor": 0
      },
      "text/plain": [
       "  0%|          | 0/10000 [00:00<?, ?it/s]"
      ]
     },
     "metadata": {},
     "output_type": "display_data"
    },
    {
     "data": {
      "application/vnd.jupyter.widget-view+json": {
       "model_id": "6f991f5f84114e508b494de50c12f901",
       "version_major": 2,
       "version_minor": 0
      },
      "text/plain": [
       "  0%|          | 0/10000 [00:00<?, ?it/s]"
      ]
     },
     "metadata": {},
     "output_type": "display_data"
    },
    {
     "data": {
      "application/vnd.jupyter.widget-view+json": {
       "model_id": "cb5fe0e31f184117a0a01230c551491b",
       "version_major": 2,
       "version_minor": 0
      },
      "text/plain": [
       "  0%|          | 0/10000 [00:00<?, ?it/s]"
      ]
     },
     "metadata": {},
     "output_type": "display_data"
    },
    {
     "data": {
      "application/vnd.jupyter.widget-view+json": {
       "model_id": "e6ca978deadb4c549d5d56d27836ce73",
       "version_major": 2,
       "version_minor": 0
      },
      "text/plain": [
       "  0%|          | 0/10000 [00:00<?, ?it/s]"
      ]
     },
     "metadata": {},
     "output_type": "display_data"
    },
    {
     "data": {
      "application/vnd.jupyter.widget-view+json": {
       "model_id": "f18d9cb098034529a020134c3b8bda48",
       "version_major": 2,
       "version_minor": 0
      },
      "text/plain": [
       "  0%|          | 0/10000 [00:00<?, ?it/s]"
      ]
     },
     "metadata": {},
     "output_type": "display_data"
    },
    {
     "data": {
      "application/vnd.jupyter.widget-view+json": {
       "model_id": "42c71a1f97f24ed695f88c581c45f1b7",
       "version_major": 2,
       "version_minor": 0
      },
      "text/plain": [
       "  0%|          | 0/10000 [00:00<?, ?it/s]"
      ]
     },
     "metadata": {},
     "output_type": "display_data"
    },
    {
     "data": {
      "application/vnd.jupyter.widget-view+json": {
       "model_id": "975ceb78b6d447c79189349a78b77d23",
       "version_major": 2,
       "version_minor": 0
      },
      "text/plain": [
       "  0%|          | 0/10000 [00:00<?, ?it/s]"
      ]
     },
     "metadata": {},
     "output_type": "display_data"
    },
    {
     "data": {
      "application/vnd.jupyter.widget-view+json": {
       "model_id": "3269e1c516d14a3d93c2db3cfd150e1d",
       "version_major": 2,
       "version_minor": 0
      },
      "text/plain": [
       "  0%|          | 0/10000 [00:00<?, ?it/s]"
      ]
     },
     "metadata": {},
     "output_type": "display_data"
    },
    {
     "data": {
      "application/vnd.jupyter.widget-view+json": {
       "model_id": "4fd151984c4c45a49275a06ca006f316",
       "version_major": 2,
       "version_minor": 0
      },
      "text/plain": [
       "  0%|          | 0/10000 [00:00<?, ?it/s]"
      ]
     },
     "metadata": {},
     "output_type": "display_data"
    },
    {
     "data": {
      "application/vnd.jupyter.widget-view+json": {
       "model_id": "6447eb49fb3d40da9ea44f513329fadc",
       "version_major": 2,
       "version_minor": 0
      },
      "text/plain": [
       "  0%|          | 0/10000 [00:00<?, ?it/s]"
      ]
     },
     "metadata": {},
     "output_type": "display_data"
    },
    {
     "data": {
      "application/vnd.jupyter.widget-view+json": {
       "model_id": "c5bda54a5ba8464db72855c8bad71372",
       "version_major": 2,
       "version_minor": 0
      },
      "text/plain": [
       "  0%|          | 0/10000 [00:00<?, ?it/s]"
      ]
     },
     "metadata": {},
     "output_type": "display_data"
    },
    {
     "data": {
      "application/vnd.jupyter.widget-view+json": {
       "model_id": "2f3bd5986de348ea9c7bea6f342ddfb7",
       "version_major": 2,
       "version_minor": 0
      },
      "text/plain": [
       "  0%|          | 0/10000 [00:00<?, ?it/s]"
      ]
     },
     "metadata": {},
     "output_type": "display_data"
    },
    {
     "data": {
      "application/vnd.jupyter.widget-view+json": {
       "model_id": "96c57e51c0994428a8421ec59413d045",
       "version_major": 2,
       "version_minor": 0
      },
      "text/plain": [
       "  0%|          | 0/10000 [00:00<?, ?it/s]"
      ]
     },
     "metadata": {},
     "output_type": "display_data"
    },
    {
     "data": {
      "application/vnd.jupyter.widget-view+json": {
       "model_id": "6c8dacd62c4e4c21a215978a809c861f",
       "version_major": 2,
       "version_minor": 0
      },
      "text/plain": [
       "  0%|          | 0/10000 [00:00<?, ?it/s]"
      ]
     },
     "metadata": {},
     "output_type": "display_data"
    },
    {
     "data": {
      "application/vnd.jupyter.widget-view+json": {
       "model_id": "ad16302a225345ff8bc2564c18c8b42c",
       "version_major": 2,
       "version_minor": 0
      },
      "text/plain": [
       "  0%|          | 0/10000 [00:00<?, ?it/s]"
      ]
     },
     "metadata": {},
     "output_type": "display_data"
    },
    {
     "data": {
      "application/vnd.jupyter.widget-view+json": {
       "model_id": "b0a9e6b2ae434be0b458af9cd8e004e0",
       "version_major": 2,
       "version_minor": 0
      },
      "text/plain": [
       "  0%|          | 0/10000 [00:00<?, ?it/s]"
      ]
     },
     "metadata": {},
     "output_type": "display_data"
    },
    {
     "data": {
      "application/vnd.jupyter.widget-view+json": {
       "model_id": "d698811aaa994be6b7138fd06565c2c8",
       "version_major": 2,
       "version_minor": 0
      },
      "text/plain": [
       "  0%|          | 0/10000 [00:00<?, ?it/s]"
      ]
     },
     "metadata": {},
     "output_type": "display_data"
    },
    {
     "data": {
      "application/vnd.jupyter.widget-view+json": {
       "model_id": "94d19db30b7a457281d2f11f0182895c",
       "version_major": 2,
       "version_minor": 0
      },
      "text/plain": [
       "  0%|          | 0/10000 [00:00<?, ?it/s]"
      ]
     },
     "metadata": {},
     "output_type": "display_data"
    },
    {
     "data": {
      "application/vnd.jupyter.widget-view+json": {
       "model_id": "896a353ea8c24de89e1143028e6fdc39",
       "version_major": 2,
       "version_minor": 0
      },
      "text/plain": [
       "  0%|          | 0/10000 [00:00<?, ?it/s]"
      ]
     },
     "metadata": {},
     "output_type": "display_data"
    }
   ],
   "source": [
    "m = 100\n",
    "max_iter = 10000\n",
    "\n",
    "disagreement_trains = []\n",
    "disagreement_tests = []\n",
    "ambiguity_trains = []\n",
    "ambiguity_tests = []\n",
    "shifts = []\n",
    "atypicalities = []\n",
    "\n",
    "all_metrics = []\n",
    "\n",
    "true_u_vecs = []\n",
    "\n",
    "for draw_id in range(5):\n",
    "    _, T_true = generate_class_independent_noise(y_train, noise_level) #Fixed noise draw\n",
    "\n",
    "    u_vec = get_u(y_train, T = T_true, seed= draw_id, noise_type = noise_type)\n",
    "    true_u_vecs.append(u_vec)\n",
    "\n",
    "    yn_train = flipped_labels = flip_labels(y_train, u_vec)\n",
    "\n",
    "    for shift in np.linspace(0, 0.2, 10):\n",
    "        T_est = adjust_transition_matrix(T_true, shift)\n",
    "        #print(\"T est: \",T_est[0,1])\n",
    "    #     (disagreement_train, \n",
    "    #     disagreement_test, \n",
    "    #     ambiguity_train, \n",
    "    #     ambiguity_test, difference) \n",
    "        outs = run_procedure_atypical(m, max_iter, X_train, yn_train, X_test, y_test, p_y_x_dict, group_train = None, group_test = None, noise_type = noise_type, model_type = model_type, T = T_est, epsilon = 0.1, misspecify = True)\n",
    "\n",
    "\n",
    "        for i, metric in enumerate([\"disagreement_train\", \"disagreement_test\", 'ambiguity_train', \"ambiguity_test\", \"atypicality\"]):\n",
    "\n",
    "            all_metrics.append({\n",
    "                                \"dataset\": dataset,\n",
    "                                \"model_type\": model_type,\n",
    "                                \"noise_type\": noise_type,\n",
    "                                \"shift\": shift,\n",
    "                                #\"err_method\": method, #ignore err_method column for now\n",
    "                                \"metric\": metric,\n",
    "                                \"value\": outs[i],\n",
    "                                'draw_id':draw_id\n",
    "                        })\n",
    "\n",
    "    \n"
   ]
  },
  {
   "cell_type": "code",
   "execution_count": 26,
   "id": "technological-chaos",
   "metadata": {
    "scrolled": true
   },
   "outputs": [
    {
     "data": {
      "text/html": [
       "<div>\n",
       "<style scoped>\n",
       "    .dataframe tbody tr th:only-of-type {\n",
       "        vertical-align: middle;\n",
       "    }\n",
       "\n",
       "    .dataframe tbody tr th {\n",
       "        vertical-align: top;\n",
       "    }\n",
       "\n",
       "    .dataframe thead th {\n",
       "        text-align: right;\n",
       "    }\n",
       "</style>\n",
       "<table border=\"1\" class=\"dataframe\">\n",
       "  <thead>\n",
       "    <tr style=\"text-align: right;\">\n",
       "      <th></th>\n",
       "      <th>dataset</th>\n",
       "      <th>model_type</th>\n",
       "      <th>noise_type</th>\n",
       "      <th>shift</th>\n",
       "      <th>metric</th>\n",
       "      <th>value</th>\n",
       "      <th>draw_id</th>\n",
       "    </tr>\n",
       "  </thead>\n",
       "  <tbody>\n",
       "    <tr>\n",
       "      <th>0</th>\n",
       "      <td>cshock_eicu</td>\n",
       "      <td>LR</td>\n",
       "      <td>class_independent</td>\n",
       "      <td>0.0</td>\n",
       "      <td>disagreement_train</td>\n",
       "      <td>[33.09090909090909, 98.42424242424244, 91.9191...</td>\n",
       "      <td>0</td>\n",
       "    </tr>\n",
       "    <tr>\n",
       "      <th>1</th>\n",
       "      <td>cshock_eicu</td>\n",
       "      <td>LR</td>\n",
       "      <td>class_independent</td>\n",
       "      <td>0.0</td>\n",
       "      <td>disagreement_test</td>\n",
       "      <td>[100.36363636363639, 77.73737373737374, 0.0, 8...</td>\n",
       "      <td>0</td>\n",
       "    </tr>\n",
       "    <tr>\n",
       "      <th>2</th>\n",
       "      <td>cshock_eicu</td>\n",
       "      <td>LR</td>\n",
       "      <td>class_independent</td>\n",
       "      <td>0.0</td>\n",
       "      <td>ambiguity_train</td>\n",
       "      <td>[9.0, 42.0, 35.0, 0.0, 48.0, 0.0, 2.0, 82.0, 5...</td>\n",
       "      <td>0</td>\n",
       "    </tr>\n",
       "    <tr>\n",
       "      <th>3</th>\n",
       "      <td>cshock_eicu</td>\n",
       "      <td>LR</td>\n",
       "      <td>class_independent</td>\n",
       "      <td>0.0</td>\n",
       "      <td>ambiguity_test</td>\n",
       "      <td>[46.0, 74.0, 0.0, 30.0, 0.0, 0.0, 2.0, 0.0, 10...</td>\n",
       "      <td>0</td>\n",
       "    </tr>\n",
       "    <tr>\n",
       "      <th>4</th>\n",
       "      <td>cshock_eicu</td>\n",
       "      <td>LR</td>\n",
       "      <td>class_independent</td>\n",
       "      <td>0.0</td>\n",
       "      <td>atypicality</td>\n",
       "      <td>0.005137</td>\n",
       "      <td>0</td>\n",
       "    </tr>\n",
       "    <tr>\n",
       "      <th>...</th>\n",
       "      <td>...</td>\n",
       "      <td>...</td>\n",
       "      <td>...</td>\n",
       "      <td>...</td>\n",
       "      <td>...</td>\n",
       "      <td>...</td>\n",
       "      <td>...</td>\n",
       "    </tr>\n",
       "    <tr>\n",
       "      <th>245</th>\n",
       "      <td>cshock_eicu</td>\n",
       "      <td>LR</td>\n",
       "      <td>class_independent</td>\n",
       "      <td>0.2</td>\n",
       "      <td>disagreement_train</td>\n",
       "      <td>[97.73737373737376, 96.96969696969697, 100.000...</td>\n",
       "      <td>4</td>\n",
       "    </tr>\n",
       "    <tr>\n",
       "      <th>246</th>\n",
       "      <td>cshock_eicu</td>\n",
       "      <td>LR</td>\n",
       "      <td>class_independent</td>\n",
       "      <td>0.2</td>\n",
       "      <td>disagreement_test</td>\n",
       "      <td>[100.36363636363639, 99.55555555555556, 83.191...</td>\n",
       "      <td>4</td>\n",
       "    </tr>\n",
       "    <tr>\n",
       "      <th>247</th>\n",
       "      <td>cshock_eicu</td>\n",
       "      <td>LR</td>\n",
       "      <td>class_independent</td>\n",
       "      <td>0.2</td>\n",
       "      <td>ambiguity_train</td>\n",
       "      <td>[59.0, 60.0, 55.00000000000001, 32.0, 46.0, 28...</td>\n",
       "      <td>4</td>\n",
       "    </tr>\n",
       "    <tr>\n",
       "      <th>248</th>\n",
       "      <td>cshock_eicu</td>\n",
       "      <td>LR</td>\n",
       "      <td>class_independent</td>\n",
       "      <td>0.2</td>\n",
       "      <td>ambiguity_test</td>\n",
       "      <td>[46.0, 56.00000000000001, 28.999999999999996, ...</td>\n",
       "      <td>4</td>\n",
       "    </tr>\n",
       "    <tr>\n",
       "      <th>249</th>\n",
       "      <td>cshock_eicu</td>\n",
       "      <td>LR</td>\n",
       "      <td>class_independent</td>\n",
       "      <td>0.2</td>\n",
       "      <td>atypicality</td>\n",
       "      <td>0.013893</td>\n",
       "      <td>4</td>\n",
       "    </tr>\n",
       "  </tbody>\n",
       "</table>\n",
       "<p>250 rows × 7 columns</p>\n",
       "</div>"
      ],
      "text/plain": [
       "         dataset model_type         noise_type  shift              metric  \\\n",
       "0    cshock_eicu         LR  class_independent    0.0  disagreement_train   \n",
       "1    cshock_eicu         LR  class_independent    0.0   disagreement_test   \n",
       "2    cshock_eicu         LR  class_independent    0.0     ambiguity_train   \n",
       "3    cshock_eicu         LR  class_independent    0.0      ambiguity_test   \n",
       "4    cshock_eicu         LR  class_independent    0.0         atypicality   \n",
       "..           ...        ...                ...    ...                 ...   \n",
       "245  cshock_eicu         LR  class_independent    0.2  disagreement_train   \n",
       "246  cshock_eicu         LR  class_independent    0.2   disagreement_test   \n",
       "247  cshock_eicu         LR  class_independent    0.2     ambiguity_train   \n",
       "248  cshock_eicu         LR  class_independent    0.2      ambiguity_test   \n",
       "249  cshock_eicu         LR  class_independent    0.2         atypicality   \n",
       "\n",
       "                                                 value  draw_id  \n",
       "0    [33.09090909090909, 98.42424242424244, 91.9191...        0  \n",
       "1    [100.36363636363639, 77.73737373737374, 0.0, 8...        0  \n",
       "2    [9.0, 42.0, 35.0, 0.0, 48.0, 0.0, 2.0, 82.0, 5...        0  \n",
       "3    [46.0, 74.0, 0.0, 30.0, 0.0, 0.0, 2.0, 0.0, 10...        0  \n",
       "4                                             0.005137        0  \n",
       "..                                                 ...      ...  \n",
       "245  [97.73737373737376, 96.96969696969697, 100.000...        4  \n",
       "246  [100.36363636363639, 99.55555555555556, 83.191...        4  \n",
       "247  [59.0, 60.0, 55.00000000000001, 32.0, 46.0, 28...        4  \n",
       "248  [46.0, 56.00000000000001, 28.999999999999996, ...        4  \n",
       "249                                           0.013893        4  \n",
       "\n",
       "[250 rows x 7 columns]"
      ]
     },
     "execution_count": 26,
     "metadata": {},
     "output_type": "execute_result"
    }
   ],
   "source": [
    "\n",
    "metrics_df = pd.DataFrame(all_metrics)\n",
    "\n",
    "#metrics_df.to_csv('typicality.csv', index=False)\n",
    "#metrics_df = pd.read_csv('typicality.csv')\n",
    "# Convert the 'Coverage' column from string representations of arrays to numpy arrays\n",
    "#metrics_df['value'] = metrics_df['value'].apply(lambda x: np.array(ast.literal_eval(x), dtype=float))\n",
    "\n",
    "metrics_df"
   ]
  },
  {
   "cell_type": "markdown",
   "id": "turkish-persian",
   "metadata": {},
   "source": []
  },
  {
   "cell_type": "code",
   "execution_count": 51,
   "id": "continental-firewall",
   "metadata": {
    "scrolled": false
   },
   "outputs": [
    {
     "data": {
      "image/png": "[encoded data removed]",
      "text/plain": [
       "<Figure size 500x500 with 1 Axes>"
      ]
     },
     "metadata": {},
     "output_type": "display_data"
    }
   ],
   "source": [
    "import pandas as pd\n",
    "import numpy as np\n",
    "import matplotlib.pyplot as plt\n",
    "import seaborn as sns\n",
    "from sklearn.metrics import accuracy_score, confusion_matrix\n",
    "from matplotlib.ticker import FuncFormatter\n",
    "\n",
    "# Assuming `metrics_df` is already provided and `true_values` is available\n",
    "# Here is the structure of `metrics_df` assumed:\n",
    "# - 'dataset': The dataset name\n",
    "# - 'model_type': The model type\n",
    "# - 'noise_type': The noise type\n",
    "# - 'shift': The shift value\n",
    "# - 'metric': The metric type\n",
    "# - 'value': The metric value\n",
    "\n",
    "# Initialize lists to store accuracy, FNR, FPR, and shifts\n",
    "coverage_data = []\n",
    "\n",
    "# Calculate the baseline values at shift 0\n",
    "baseline_df = metrics_df[\n",
    "    (metrics_df[\"model_type\"] == model_type) &\n",
    "    (metrics_df[\"noise_type\"] == noise_type) &\n",
    "    (metrics_df[\"dataset\"] == dataset) &\n",
    "    (metrics_df[\"shift\"] == 0)\n",
    "]\n",
    "\n",
    "baseline_ambiguity_values = np.array(baseline_df[baseline_df[\"metric\"] == \"ambiguity_train\"]['value'].values[0]) / 100\n",
    "\n",
    "baseline_predicted_labels = (baseline_ambiguity_values > 0).astype(int)\n",
    "baseline_accuracy = accuracy_score(true_values, baseline_predicted_labels)\n",
    "baseline_tn, baseline_fp, baseline_fn, baseline_tp = confusion_matrix(true_values, baseline_predicted_labels).ravel()\n",
    "baseline_fnr = baseline_fn / (baseline_fn + baseline_tp) if (baseline_fn + baseline_tp) != 0 else 0\n",
    "baseline_fpr = baseline_fp / (baseline_fp + baseline_tn) if (baseline_fp + baseline_tn) != 0 else 0\n",
    "baseline_coverage = np.logical_and(true_values, baseline_predicted_labels).mean()\n",
    "\n",
    "# Loop through each shift\n",
    "for shift in metrics_df['shift'].unique():\n",
    "    \n",
    "    sub_df = metrics_df[\n",
    "        (metrics_df[\"model_type\"] == model_type) &\n",
    "        (metrics_df[\"noise_type\"] == noise_type) &\n",
    "        (metrics_df[\"dataset\"] == dataset) &\n",
    "        (metrics_df[\"shift\"] == shift)\n",
    "    ]\n",
    "    \n",
    "    for i, draw_id in enumerate(range(5)):\n",
    "        ambiguity_values = sub_df[(sub_df[\"metric\"] == \"ambiguity_train\") & (sub_df[\"draw_id\"] == draw_id)]['value'].values\n",
    "        atypicality = sub_df[(sub_df[\"metric\"] == \"atypicality\") & (sub_df[\"draw_id\"] == draw_id)]['value'].values\n",
    "\n",
    "        if len(ambiguity_values) > 0:\n",
    "            ambiguity_values = np.array(ambiguity_values[0]) / 100\n",
    "            \n",
    "            if len(true_values) > 0:\n",
    "                # Compute accuracy\n",
    "                predicted_labels = (ambiguity_values > 0).astype(int)\n",
    "                accuracy = accuracy_score(true_values, predicted_labels)\n",
    "                coverage = np.logical_and(true_values, predicted_labels).mean()\n",
    "                \n",
    "                # Compute confusion matrix\n",
    "                tn, fp, fn, tp = confusion_matrix(true_values, predicted_labels).ravel()\n",
    "                \n",
    "                # Calculate FNR and FPR\n",
    "                fnr = fn / (fn + tp) if (fn + tp) != 0 else 0\n",
    "                fpr = fp / (fp + tn) if (fp + tn) != 0 else 0\n",
    "                \n",
    "                # Calculate differences from baseline\n",
    "                delta_coverage = (coverage - baseline_coverage) * 100\n",
    "                delta_fpr = (fpr - baseline_fpr) * 100\n",
    "                delta_fnr = (fnr - baseline_fnr) * 100\n",
    "                \n",
    "                coverage_data.append({'shift': round(shift*100), 'delta_coverage': delta_coverage, 'delta_fpr': delta_fpr, 'delta_fnr': delta_fnr, 'draw_id': draw_id, 'atypicality': atypicality})\n",
    "\n",
    "# Convert accuracy data to a DataFrame\n",
    "coverage_df = pd.DataFrame(coverage_data)\n",
    "\n",
    "# Create figure and axes\n",
    "fig, ax = plt.subplots(figsize=(5, 5))\n",
    "\n",
    "# Plot delta FPR\n",
    "sns.lineplot(ax=ax, data=coverage_df, x='shift', y='delta_fnr',  marker='o', markersize=10, linestyle='--', linewidth=2, color = \"#8896FB\")\n",
    "\n",
    "# Plot delta FPR\n",
    "sns.lineplot(ax=ax, data=coverage_df, x='shift', y='delta_fpr',  marker='o', markersize=10, linestyle='--', linewidth=2, color = \"#fc8803\")\n",
    "\n",
    "# Plot delta Coverage\n",
    "sns.lineplot(ax=ax, data=coverage_df, x='shift', y='delta_coverage', marker='o', markersize=10, linestyle='--', linewidth=2)\n",
    "\n",
    "# Customize the plot\n",
    "ax.set_xlim(0,20.5)\n",
    "ax.set_ylim(-10,40)\n",
    "ax.set_xlabel('Atypicality', size=14)\n",
    "ax.set_ylabel('Δ Rate', size=14)\n",
    "num_x_ticks = 6\n",
    "num_y_ticks = 6\n",
    "# Formatter to display integer ticks on x-axis\n",
    "ax.xaxis.set_major_formatter(FuncFormatter(lambda x, _: f'{int(x)}'))\n",
    "\n",
    "ax.tick_params(axis='x', labelsize=12)\n",
    "ax.tick_params(axis='y', labelsize=12)\n",
    "\n",
    "\n",
    "ax.set_xticks(np.linspace(0, 20, num_x_ticks))\n",
    "ax.set_yticks(np.linspace(-10, 40, num_y_ticks))\n",
    "\n",
    "ax.set_xticklabels([str(int(x)) + '%' if x== 20 else str(int(x)) for x in ax.get_xticks()])\n",
    "ax.set_yticklabels([str(int(y)) + '%' if y == 40 else str(int(y))+\"  \" for y in ax.get_yticks()])\n",
    "\n",
    "\n",
    "\n",
    "\n",
    "\n",
    "ax.grid(True, which='both', linestyle='--', linewidth=0.5)\n",
    "\n",
    "plt.tight_layout(rect=[0, 0.1, 1, 1])\n",
    "plt.savefig(\"atypicality.pdf\", bbox_inches='tight')\n",
    "plt.show()\n"
   ]
  },
  {
   "cell_type": "code",
   "execution_count": null,
   "id": "promising-afternoon",
   "metadata": {},
   "outputs": [],
   "source": []
  }
 ],
 "metadata": {
  "kernelspec": {
   "display_name": "noisyTS",
   "language": "python",
   "name": "noisyts"
  },
  "language_info": {
   "codemirror_mode": {
    "name": "ipython",
    "version": 3
   },
   "file_extension": ".py",
   "mimetype": "text/x-python",
   "name": "python",
   "nbconvert_exporter": "python",
   "pygments_lexer": "ipython3",
   "version": "3.10.0"
  }
 },
 "nbformat": 4,
 "nbformat_minor": 5
}
