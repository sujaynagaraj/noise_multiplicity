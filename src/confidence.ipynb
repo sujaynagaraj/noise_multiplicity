{
 "cells": [
  {
   "cell_type": "code",
   "execution_count": 1,
   "id": "vocational-adoption",
   "metadata": {},
   "outputs": [],
   "source": [
    "import sys\n",
    "sys.path.insert(0,'..')\n",
    "\n",
    "from src.models import *\n",
    "from src.loss_functions import *\n",
    "from src.noise import *\n",
    "from src.metrics import *\n",
    "from src.plotting import *\n",
    "from src.generate_data import *\n",
    "from src.real_data import *\n",
    "\n",
    "import sklearn\n",
    "import pandas as pd\n",
    "\n",
    "from scipy.stats import bernoulli\n",
    "\n",
    "from operator import xor\n",
    "\n",
    "import os\n",
    "\n"
   ]
  },
  {
   "cell_type": "code",
   "execution_count": 4,
   "id": "parallel-barrier",
   "metadata": {},
   "outputs": [],
   "source": [
    "metrics_df = load_metrics(model_type, noise_type, uncertainty_type, metric=\"preds_train\", dataset=dataset, fixed_class=fixed_class, fixed_noise=fixed_noise, epsilon = epsilon)\n"
   ]
  },
  {
   "cell_type": "code",
   "execution_count": 5,
   "id": "taken-biography",
   "metadata": {},
   "outputs": [
    {
     "data": {
      "text/html": [
       "<div>\n",
       "<style scoped>\n",
       "    .dataframe tbody tr th:only-of-type {\n",
       "        vertical-align: middle;\n",
       "    }\n",
       "\n",
       "    .dataframe tbody tr th {\n",
       "        vertical-align: top;\n",
       "    }\n",
       "\n",
       "    .dataframe thead th {\n",
       "        text-align: right;\n",
       "    }\n",
       "</style>\n",
       "<table border=\"1\" class=\"dataframe\">\n",
       "  <thead>\n",
       "    <tr style=\"text-align: right;\">\n",
       "      <th></th>\n",
       "      <th>Metric</th>\n",
       "      <th>Noise Level (%)</th>\n",
       "      <th>Rate (%)</th>\n",
       "      <th>Loss Function</th>\n",
       "      <th>Index</th>\n",
       "    </tr>\n",
       "  </thead>\n",
       "  <tbody>\n",
       "    <tr>\n",
       "      <th>0</th>\n",
       "      <td>preds_train</td>\n",
       "      <td>10</td>\n",
       "      <td>[1, 1, 0, 1, 1, 1, 0, 1, 1, 1, 0, 1, 1, 0, 1, ...</td>\n",
       "      <td>BCE</td>\n",
       "      <td>0</td>\n",
       "    </tr>\n",
       "    <tr>\n",
       "      <th>1</th>\n",
       "      <td>preds_train</td>\n",
       "      <td>10</td>\n",
       "      <td>[1, 0, 0, 1, 1, 1, 0, 1, 1, 1, 1, 1, 1, 0, 1, ...</td>\n",
       "      <td>BCE</td>\n",
       "      <td>1</td>\n",
       "    </tr>\n",
       "    <tr>\n",
       "      <th>2</th>\n",
       "      <td>preds_train</td>\n",
       "      <td>10</td>\n",
       "      <td>[1, 1, 0, 1, 0, 1, 0, 1, 1, 1, 0, 1, 1, 0, 1, ...</td>\n",
       "      <td>BCE</td>\n",
       "      <td>2</td>\n",
       "    </tr>\n",
       "    <tr>\n",
       "      <th>3</th>\n",
       "      <td>preds_train</td>\n",
       "      <td>10</td>\n",
       "      <td>[1, 1, 0, 1, 1, 1, 0, 1, 1, 1, 0, 1, 1, 0, 1, ...</td>\n",
       "      <td>BCE</td>\n",
       "      <td>3</td>\n",
       "    </tr>\n",
       "    <tr>\n",
       "      <th>4</th>\n",
       "      <td>preds_train</td>\n",
       "      <td>10</td>\n",
       "      <td>[1, 0, 0, 1, 0, 1, 0, 1, 1, 1, 0, 1, 1, 0, 1, ...</td>\n",
       "      <td>BCE</td>\n",
       "      <td>4</td>\n",
       "    </tr>\n",
       "    <tr>\n",
       "      <th>...</th>\n",
       "      <td>...</td>\n",
       "      <td>...</td>\n",
       "      <td>...</td>\n",
       "      <td>...</td>\n",
       "      <td>...</td>\n",
       "    </tr>\n",
       "    <tr>\n",
       "      <th>17995</th>\n",
       "      <td>preds_train</td>\n",
       "      <td>5</td>\n",
       "      <td>[1, 0, 0, 1, 0, 1, 0, 1, 1, 1, 0, 1, 1, 0, 1, ...</td>\n",
       "      <td>backward</td>\n",
       "      <td>995</td>\n",
       "    </tr>\n",
       "    <tr>\n",
       "      <th>17996</th>\n",
       "      <td>preds_train</td>\n",
       "      <td>5</td>\n",
       "      <td>[1, 0, 0, 1, 1, 1, 0, 1, 1, 1, 0, 1, 1, 0, 1, ...</td>\n",
       "      <td>backward</td>\n",
       "      <td>996</td>\n",
       "    </tr>\n",
       "    <tr>\n",
       "      <th>17997</th>\n",
       "      <td>preds_train</td>\n",
       "      <td>5</td>\n",
       "      <td>[1, 1, 0, 1, 1, 1, 0, 1, 1, 1, 0, 1, 1, 0, 1, ...</td>\n",
       "      <td>backward</td>\n",
       "      <td>997</td>\n",
       "    </tr>\n",
       "    <tr>\n",
       "      <th>17998</th>\n",
       "      <td>preds_train</td>\n",
       "      <td>5</td>\n",
       "      <td>[1, 0, 0, 1, 0, 1, 0, 1, 1, 1, 0, 1, 1, 0, 1, ...</td>\n",
       "      <td>backward</td>\n",
       "      <td>998</td>\n",
       "    </tr>\n",
       "    <tr>\n",
       "      <th>17999</th>\n",
       "      <td>preds_train</td>\n",
       "      <td>5</td>\n",
       "      <td>[1, 0, 0, 1, 1, 1, 0, 1, 1, 1, 0, 1, 1, 0, 1, ...</td>\n",
       "      <td>backward</td>\n",
       "      <td>999</td>\n",
       "    </tr>\n",
       "  </tbody>\n",
       "</table>\n",
       "<p>18000 rows × 5 columns</p>\n",
       "</div>"
      ],
      "text/plain": [
       "            Metric  Noise Level (%)  \\\n",
       "0      preds_train               10   \n",
       "1      preds_train               10   \n",
       "2      preds_train               10   \n",
       "3      preds_train               10   \n",
       "4      preds_train               10   \n",
       "...            ...              ...   \n",
       "17995  preds_train                5   \n",
       "17996  preds_train                5   \n",
       "17997  preds_train                5   \n",
       "17998  preds_train                5   \n",
       "17999  preds_train                5   \n",
       "\n",
       "                                                Rate (%) Loss Function  Index  \n",
       "0      [1, 1, 0, 1, 1, 1, 0, 1, 1, 1, 0, 1, 1, 0, 1, ...           BCE      0  \n",
       "1      [1, 0, 0, 1, 1, 1, 0, 1, 1, 1, 1, 1, 1, 0, 1, ...           BCE      1  \n",
       "2      [1, 1, 0, 1, 0, 1, 0, 1, 1, 1, 0, 1, 1, 0, 1, ...           BCE      2  \n",
       "3      [1, 1, 0, 1, 1, 1, 0, 1, 1, 1, 0, 1, 1, 0, 1, ...           BCE      3  \n",
       "4      [1, 0, 0, 1, 0, 1, 0, 1, 1, 1, 0, 1, 1, 0, 1, ...           BCE      4  \n",
       "...                                                  ...           ...    ...  \n",
       "17995  [1, 0, 0, 1, 0, 1, 0, 1, 1, 1, 0, 1, 1, 0, 1, ...      backward    995  \n",
       "17996  [1, 0, 0, 1, 1, 1, 0, 1, 1, 1, 0, 1, 1, 0, 1, ...      backward    996  \n",
       "17997  [1, 1, 0, 1, 1, 1, 0, 1, 1, 1, 0, 1, 1, 0, 1, ...      backward    997  \n",
       "17998  [1, 0, 0, 1, 0, 1, 0, 1, 1, 1, 0, 1, 1, 0, 1, ...      backward    998  \n",
       "17999  [1, 0, 0, 1, 1, 1, 0, 1, 1, 1, 0, 1, 1, 0, 1, ...      backward    999  \n",
       "\n",
       "[18000 rows x 5 columns]"
      ]
     },
     "execution_count": 5,
     "metadata": {},
     "output_type": "execute_result"
    }
   ],
   "source": [
    "metrics_df"
   ]
  },
  {
   "cell_type": "code",
   "execution_count": 21,
   "id": "three-chester",
   "metadata": {},
   "outputs": [
    {
     "data": {
      "text/plain": [
       "array([[0.8, 0.2],\n",
       "       [0.1, 0.9]])"
      ]
     },
     "execution_count": 21,
     "metadata": {},
     "output_type": "execute_result"
    }
   ],
   "source": [
    "T = np.array([[0.8,0.2],[0.1,0.9]])\n",
    "T"
   ]
  },
  {
   "cell_type": "code",
   "execution_count": 22,
   "id": "printable-retreat",
   "metadata": {},
   "outputs": [
    {
     "data": {
      "text/plain": [
       "array([[0.9, 0.1],\n",
       "       [0.2, 0.8]])"
      ]
     },
     "execution_count": 22,
     "metadata": {},
     "output_type": "execute_result"
    }
   ],
   "source": [
    "# Swap diagonal elements\n",
    "np.array([[T[1, 1], T[1, 0]], [T[0, 1], T[0, 0]]])\n"
   ]
  },
  {
   "cell_type": "code",
   "execution_count": null,
   "id": "ranging-dialogue",
   "metadata": {},
   "outputs": [],
   "source": []
  }
 ],
 "metadata": {
  "kernelspec": {
   "display_name": "noisyTS",
   "language": "python",
   "name": "noisyts"
  },
  "language_info": {
   "codemirror_mode": {
    "name": "ipython",
    "version": 3
   },
   "file_extension": ".py",
   "mimetype": "text/x-python",
   "name": "python",
   "nbconvert_exporter": "python",
   "pygments_lexer": "ipython3",
   "version": "3.10.0"
  }
 },
 "nbformat": 4,
 "nbformat_minor": 5
}
