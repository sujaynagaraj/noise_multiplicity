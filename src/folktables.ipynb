{
 "cells": [
  {
   "cell_type": "code",
   "execution_count": 1,
   "id": "worthy-transport",
   "metadata": {},
   "outputs": [],
   "source": [
    "import sys\n",
    "sys.path.insert(0,'..')\n",
    "\n",
    "from src.models import *\n",
    "from src.loss_functions import *\n",
    "from src.noise import *\n",
    "from src.metrics import *\n",
    "from src.plotting import *\n",
    "from src.generate_data import *\n",
    "from src.real_data import *\n",
    "\n",
    "import sklearn\n",
    "import pandas as pd\n",
    "\n",
    "from scipy.stats import bernoulli\n",
    "\n",
    "from operator import xor\n",
    "from sklearn.preprocessing import StandardScaler"
   ]
  },
  {
   "cell_type": "code",
   "execution_count": 11,
   "id": "silver-pressure",
   "metadata": {},
   "outputs": [],
   "source": [
    "from folktables import ACSDataSource, ACSEmployment\n",
    "\n",
    "\n",
    "data_source = ACSDataSource(survey_year='2018', horizon='1-Year', survey='person')\n",
    "acs_data = data_source.get_data(states=[\"AL\"], download=True)\n",
    "\n",
    "\n",
    "\n",
    "size = 2500\n",
    "acs_data_sample = acs_data.sample(n=size, random_state=2024)\n",
    "\n",
    "features, label, group = ACSEmployment.df_to_numpy(acs_data_sample)"
   ]
  },
  {
   "cell_type": "code",
   "execution_count": 12,
   "id": "regular-establishment",
   "metadata": {},
   "outputs": [],
   "source": [
    "# Create a StandardScaler object\n",
    "scaler = StandardScaler()\n",
    "\n",
    "# Fit and transform the data\n",
    "features = scaler.fit_transform(features)"
   ]
  },
  {
   "cell_type": "code",
   "execution_count": 13,
   "id": "heavy-funds",
   "metadata": {},
   "outputs": [
    {
     "data": {
      "text/plain": [
       "(2500, 16)"
      ]
     },
     "execution_count": 13,
     "metadata": {},
     "output_type": "execute_result"
    }
   ],
   "source": [
    "features.shape"
   ]
  },
  {
   "cell_type": "code",
   "execution_count": 14,
   "id": "terminal-screening",
   "metadata": {},
   "outputs": [],
   "source": [
    "X_train, X_test, y_train, y_test, group_train, group_test = train_test_split(\n",
    "    features, label, group, test_size=0.2, random_state=2024)"
   ]
  },
  {
   "cell_type": "code",
   "execution_count": 15,
   "id": "respective-antigua",
   "metadata": {},
   "outputs": [
    {
     "data": {
      "text/plain": [
       "(2000, 16)"
      ]
     },
     "execution_count": 15,
     "metadata": {},
     "output_type": "execute_result"
    }
   ],
   "source": [
    "X_train.shape"
   ]
  },
  {
   "cell_type": "code",
   "execution_count": 16,
   "id": "royal-finance",
   "metadata": {},
   "outputs": [
    {
     "data": {
      "text/plain": [
       "array([0.586, 0.414])"
      ]
     },
     "execution_count": 16,
     "metadata": {},
     "output_type": "execute_result"
    }
   ],
   "source": [
    "noise_levels = np.linspace(0.0, 0, num=5)\n",
    "noise_type = \"class_independent\"\n",
    "fixed_class = 1\n",
    "fixed_noise = 0.0\n",
    "\n",
    "model_type = \"LR\"\n",
    "uncertainty_type = \"forward\"\n",
    "\n",
    "max_iter = 100\n",
    "m = 100\n",
    "d= 16\n",
    "\n",
    "\n",
    "\n",
    "X_train = X_train\n",
    "y_train = y_train.astype(int)\n",
    "\n",
    "y_test = y_test.astype(int)\n",
    "\n",
    "np.unique(y_train, return_counts=True)\n",
    "\n",
    "p1 = np.sum(y_train)/len(y_train)\n",
    "p_y_x = np.array([1-p1,p1])\n",
    "p_y_x"
   ]
  },
  {
   "cell_type": "code",
   "execution_count": null,
   "id": "oriented-trunk",
   "metadata": {
    "scrolled": true
   },
   "outputs": [
    {
     "data": {
      "application/vnd.jupyter.widget-view+json": {
       "model_id": "fbbac9c5f42b4a928f748f55681a43c5",
       "version_major": 2,
       "version_minor": 0
      },
      "text/plain": [
       "  0%|          | 0/5 [00:00<?, ?it/s]"
      ]
     },
     "metadata": {},
     "output_type": "display_data"
    },
    {
     "name": "stdout",
     "output_type": "stream",
     "text": [
      "[[1 1 0 ... 1 0 1]\n",
      " [1 1 0 ... 1 0 1]\n",
      " [0 1 0 ... 1 0 1]\n",
      " ...\n",
      " [1 1 0 ... 1 0 1]\n",
      " [1 1 0 ... 1 0 1]\n",
      " [1 1 0 ... 1 0 1]]\n",
      "Typical Rate:  1.0\n",
      "[[1 1 0 ... 1 0 1]\n",
      " [0 1 0 ... 1 0 1]\n",
      " [1 1 0 ... 1 0 1]\n",
      " ...\n",
      " [1 1 0 ... 1 0 1]\n",
      " [1 1 0 ... 1 0 1]\n",
      " [1 1 0 ... 1 0 1]]\n",
      "Typical Rate:  1.0\n",
      "[[0 1 0 ... 1 0 1]\n",
      " [1 1 0 ... 1 0 1]\n",
      " [1 1 0 ... 1 0 1]\n",
      " ...\n",
      " [1 1 0 ... 1 0 1]\n",
      " [1 1 0 ... 1 0 1]\n",
      " [0 1 0 ... 1 0 1]]\n",
      "Typical Rate:  1.0\n"
     ]
    }
   ],
   "source": [
    "metrics = simulate_noise_and_train_model(noise_levels, m, max_iter, d,  X_train, y_train, X_test, y_test, p_y_x = p_y_x, noise_type = noise_type, model_type = model_type, uncertainty_type=uncertainty_type,  fixed_class=fixed_class, fixed_noise=fixed_noise)\n",
    "    "
   ]
  },
  {
   "cell_type": "code",
   "execution_count": null,
   "id": "above-whale",
   "metadata": {
    "scrolled": false
   },
   "outputs": [],
   "source": [
    "import pandas as pd\n",
    "import matplotlib.pyplot as plt\n",
    "import seaborn as sns\n",
    "\n",
    "def plot_metric(metrics, metric, ax=None):\n",
    "    # Prepare the data\n",
    "    loss_functions = list(metrics.data.keys())\n",
    "    noise_levels = list(set(noise for lf in loss_functions for noise in metrics.data[lf].keys()))\n",
    "    rows = []\n",
    "\n",
    "    for loss_function in loss_functions:\n",
    "        for noise in noise_levels:\n",
    "            if noise in metrics.data[loss_function]:\n",
    "                for value in metrics.data[loss_function][noise][metric]:\n",
    "                    rows.append({\n",
    "                        'Noise Rate': noise,\n",
    "                        'Metric': value,\n",
    "                        'Loss Function': loss_function\n",
    "                    })\n",
    "    \n",
    "    # Create a DataFrame suitable for Seaborn\n",
    "    df = pd.DataFrame(rows)\n",
    "    \n",
    "    # Create the plot\n",
    "    ax = ax or plt.gca()\n",
    "    sns.boxplot(x='Noise Rate', y='Metric', hue='Loss Function', data=df, ax=ax, palette='Set2', showfliers=False)\n",
    "    sns.stripplot(x='Noise Rate', y='Metric', hue='Loss Function', data=df, ax=ax, dodge=True, jitter=True, color='black', size=5, alpha=0.8)\n",
    "    \n",
    "    # Add legend and adjust plot details\n",
    "    handles, labels = ax.get_legend_handles_labels()\n",
    "    l = plt.legend(handles[:len(loss_functions)], labels[:len(loss_functions)], title='Loss Function')\n",
    "    ax.add_artist(l)\n",
    "    \n",
    "    # Set plot title and labels if ax is None\n",
    "    if ax is None:\n",
    "        ax.set_title(f'{metric} by Noise Rate Across Loss Functions')\n",
    "        ax.set_xlabel('Noise Rate')\n",
    "        ax.set_ylabel(metric.capitalize())\n",
    "        plt.show()\n",
    "\n",
    "\n",
    "# Usage:\n",
    "plot_metric(metrics,  'disagreement_train')\n",
    "# or to plot on an existing axes:\n",
    "# fig, ax = plt.subplots()\n",
    "# plot_metric(metrics, 'BCE', 'clean_test_acc', ax=ax)\n"
   ]
  },
  {
   "cell_type": "code",
   "execution_count": null,
   "id": "current-profile",
   "metadata": {},
   "outputs": [],
   "source": []
  }
 ],
 "metadata": {
  "kernelspec": {
   "display_name": "noisyTS",
   "language": "python",
   "name": "noisyts"
  },
  "language_info": {
   "codemirror_mode": {
    "name": "ipython",
    "version": 3
   },
   "file_extension": ".py",
   "mimetype": "text/x-python",
   "name": "python",
   "nbconvert_exporter": "python",
   "pygments_lexer": "ipython3",
   "version": "3.10.0"
  }
 },
 "nbformat": 4,
 "nbformat_minor": 5
}
