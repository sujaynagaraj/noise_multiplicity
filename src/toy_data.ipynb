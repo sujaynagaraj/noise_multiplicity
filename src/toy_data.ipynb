{
 "cells": [
  {
   "cell_type": "code",
   "execution_count": 17,
   "id": "altered-dairy",
   "metadata": {},
   "outputs": [],
   "source": [
    "import sys\n",
    "sys.path.insert(0,'..')\n",
    "\n",
    "from src.models import *\n",
    "from src.loss_functions import *\n",
    "from src.noise import *\n",
    "from src.metrics import *\n",
    "from src.plotting import *\n",
    "from src.generate_data import *\n",
    "from src.toy_data import *\n",
    "\n",
    "import sklearn\n",
    "import pandas as pd"
   ]
  },
  {
   "cell_type": "markdown",
   "id": "compound-religious",
   "metadata": {},
   "source": [
    "# Vanilla Case"
   ]
  },
  {
   "cell_type": "code",
   "execution_count": 14,
   "id": "informal-lighting",
   "metadata": {
    "scrolled": true
   },
   "outputs": [],
   "source": [
    "# Define the deterministic labels for each (x1, x2) pair\n",
    "true_labels = {\n",
    "    (0, 0): 0,\n",
    "    (0, 1): 0,\n",
    "    (1, 0): 1,\n",
    "    (1, 1): 1\n",
    "}\n",
    "\n",
    "# Define the number of instances for each (x1, x2) pair\n",
    "instances_counts = {\n",
    "    (0, 0): 4,\n",
    "    (0, 1): 4,\n",
    "    (1, 0): 4,\n",
    "    (1, 1): 4\n",
    "}\n",
    "\n",
    "# Test instances\n",
    "X_test = np.array(list(true_labels.keys()))\n",
    "\n",
    "# Define the noise model parameters (probabilities of flipping the label)\n",
    "flip_p = 0.4\n",
    "noise_transition_matrix = np.array([[1-flip_p, flip_p], [flip_p, 1-flip_p]])\n",
    "\n",
    "random_seeds = [42, 23]\n",
    "\n",
    "X, y = generate_dataset(true_labels, instances_counts)\n",
    "\n",
    "noisy_ys = generate_noisy_labels(y, random_seeds, noise_transition_matrix=noise_transition_matrix)\n"
   ]
  },
  {
   "cell_type": "code",
   "execution_count": 15,
   "id": "social-airfare",
   "metadata": {},
   "outputs": [
    {
     "data": {
      "text/html": [
       "<div>\n",
       "<style scoped>\n",
       "    .dataframe tbody tr th:only-of-type {\n",
       "        vertical-align: middle;\n",
       "    }\n",
       "\n",
       "    .dataframe tbody tr th {\n",
       "        vertical-align: top;\n",
       "    }\n",
       "\n",
       "    .dataframe thead th {\n",
       "        text-align: right;\n",
       "    }\n",
       "</style>\n",
       "<table border=\"1\" class=\"dataframe\">\n",
       "  <thead>\n",
       "    <tr style=\"text-align: right;\">\n",
       "      <th></th>\n",
       "      <th>n</th>\n",
       "      <th>x1</th>\n",
       "      <th>x2</th>\n",
       "      <th>y</th>\n",
       "      <th>clean_0-1</th>\n",
       "      <th>noisy_0-1_seed=42</th>\n",
       "      <th>noisy_0-1_seed=23</th>\n",
       "      <th>noisy_corrected_0-1_seed=42</th>\n",
       "      <th>noisy_corrected_0-1_seed=23</th>\n",
       "    </tr>\n",
       "  </thead>\n",
       "  <tbody>\n",
       "    <tr>\n",
       "      <th>0</th>\n",
       "      <td>25</td>\n",
       "      <td>0</td>\n",
       "      <td>0</td>\n",
       "      <td>0</td>\n",
       "      <td>0</td>\n",
       "      <td>0</td>\n",
       "      <td>0</td>\n",
       "      <td>0</td>\n",
       "      <td>0</td>\n",
       "    </tr>\n",
       "    <tr>\n",
       "      <th>1</th>\n",
       "      <td>25</td>\n",
       "      <td>0</td>\n",
       "      <td>1</td>\n",
       "      <td>1</td>\n",
       "      <td>1</td>\n",
       "      <td>0</td>\n",
       "      <td>0</td>\n",
       "      <td>1</td>\n",
       "      <td>0</td>\n",
       "    </tr>\n",
       "    <tr>\n",
       "      <th>2</th>\n",
       "      <td>25</td>\n",
       "      <td>1</td>\n",
       "      <td>0</td>\n",
       "      <td>1</td>\n",
       "      <td>1</td>\n",
       "      <td>1</td>\n",
       "      <td>1</td>\n",
       "      <td>1</td>\n",
       "      <td>1</td>\n",
       "    </tr>\n",
       "    <tr>\n",
       "      <th>3</th>\n",
       "      <td>25</td>\n",
       "      <td>1</td>\n",
       "      <td>1</td>\n",
       "      <td>1</td>\n",
       "      <td>1</td>\n",
       "      <td>0</td>\n",
       "      <td>1</td>\n",
       "      <td>1</td>\n",
       "      <td>1</td>\n",
       "    </tr>\n",
       "  </tbody>\n",
       "</table>\n",
       "</div>"
      ],
      "text/plain": [
       "    n  x1  x2  y  clean_0-1  noisy_0-1_seed=42  noisy_0-1_seed=23  \\\n",
       "0  25   0   0  0          0                  0                  0   \n",
       "1  25   0   1  1          1                  0                  0   \n",
       "2  25   1   0  1          1                  1                  1   \n",
       "3  25   1   1  1          1                  0                  1   \n",
       "\n",
       "   noisy_corrected_0-1_seed=42  noisy_corrected_0-1_seed=23  \n",
       "0                            0                            0  \n",
       "1                            1                            0  \n",
       "2                            1                            1  \n",
       "3                            1                            1  "
      ]
     },
     "execution_count": 15,
     "metadata": {},
     "output_type": "execute_result"
    }
   ],
   "source": [
    "compile_bayes_predictions(2, X, y, noisy_ys, random_seeds, instances_counts, true_labels, noise_transition_matrix)"
   ]
  },
  {
   "cell_type": "code",
   "execution_count": 16,
   "id": "changing-organizer",
   "metadata": {},
   "outputs": [],
   "source": [
    "model1, loss = bayes_model(2, X, noisy_ys[0], loss_type = \"corrected0-1\", noise_transition_matrix = noise_transition_matrix)\n",
    "model2, loss = bayes_model(2, X, noisy_ys[1], loss_type = \"corrected0-1\", noise_transition_matrix = noise_transition_matrix)"
   ]
  },
  {
   "cell_type": "code",
   "execution_count": 17,
   "id": "foreign-missouri",
   "metadata": {},
   "outputs": [
    {
     "data": {
      "image/png": "[encoded data removed]",
      "text/plain": [
       "<Figure size 432x288 with 1 Axes>"
      ]
     },
     "metadata": {
      "needs_background": "light"
     },
     "output_type": "display_data"
    },
    {
     "data": {
      "image/png": "[encoded data removed]",
      "text/plain": [
       "<Figure size 432x288 with 1 Axes>"
      ]
     },
     "metadata": {
      "needs_background": "light"
     },
     "output_type": "display_data"
    }
   ],
   "source": [
    "# Example file path, replace with actual path pattern\n",
    "file_path = \"linear_classifier_coefficients/coefs_complete_sym_d_0\"+str(2)+\".csv\"\n",
    "\n",
    "# Load the coefficients from the CSV file\n",
    "# The file path will need to be adjusted to the actual path where your file is stored\n",
    "models = (load_coefficients(file_path))\n",
    "\n",
    "# Plot the decision boundary\n",
    "plot_decision_boundary(model1, X, noisy_ys[0])\n",
    "plt.show()\n",
    "\n",
    "# Plot the decision boundary\n",
    "plot_decision_boundary(model2, X, noisy_ys[1])\n",
    "plt.show()"
   ]
  }
 ],
 "metadata": {
  "kernelspec": {
   "display_name": "noisyTS",
   "language": "python",
   "name": "noisyts"
  },
  "language_info": {
   "codemirror_mode": {
    "name": "ipython",
    "version": 3
   },
   "file_extension": ".py",
   "mimetype": "text/x-python",
   "name": "python",
   "nbconvert_exporter": "python",
   "pygments_lexer": "ipython3",
   "version": "3.10.0"
  }
 },
 "nbformat": 4,
 "nbformat_minor": 5
}
